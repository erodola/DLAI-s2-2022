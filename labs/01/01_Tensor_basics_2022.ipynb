{
  "nbformat": 4,
  "nbformat_minor": 0,
  "metadata": {
    "colab": {
      "name": "01_Tensor_basics_2022.ipynb",
      "provenance": [],
      "collapsed_sections": [
        "i51GvUnwSc0U"
      ],
      "toc_visible": true
    },
    "kernelspec": {
      "name": "python3",
      "display_name": "Python 3"
    },
    "accelerator": "GPU"
  },
  "cells": [
    {
      "cell_type": "markdown",
      "metadata": {
        "id": "AhTm-wTJNJEJ"
      },
      "source": [
        "# Deep Learning & Applied AI\n",
        "\n",
        "# Tutorial 1: Tensor manipulation\n",
        "\n",
        "In this tutorial, we will cover:\n",
        "\n",
        "- PyTorch Tensors: creation, gpu tensors, shape manipulation, indexing\n",
        "\n",
        "Prerequisites:\n",
        "\n",
        "- Python\n",
        "\n",
        "Our info:\n",
        "\n",
        "- Dr. Luca Moschella (moschella@di.uniroma1.it)\n",
        "- Dr. Donato Crisostomi (crisostomi@di.uniroma1.it)\n",
        "\n",
        "Course:\n",
        "\n",
        "- Website and notebooks will be available at https://erodola.github.io/DLAI-s2-2022/\n",
        "\n"
      ]
    },
    {
      "cell_type": "markdown",
      "metadata": {
        "id": "MDJI_JVTPMRc"
      },
      "source": [
        "## Introduction\n",
        "\n",
        "Many Deep Learning frameworks have emerged for python. Arguably the most notable ones in 2022 are **PyTorch**, **TensorFlow** (with keras frontend) and **Jax**. \n",
        "We will use PyTorch, which is [the leading DL framework](https://thegradient.pub/state-of-ml-frameworks-2019-pytorch-dominates-research-tensorflow-dominates-industry/) for research and [continues to gain popularity](https://openai.com/blog/openai-pytorch/).\n",
        "\n",
        "The fundamental data structure of these frameworks is the tensor, which is more or less the same everywhere. Gaining a solid understanding of how tensors work is required in deep learning and will definitely come in handy in other areas.\n",
        "\n",
        "The first two tutorials will give you solid basics of tensors and operations between tensors."
      ]
    },
    {
      "cell_type": "markdown",
      "metadata": {
        "id": "_ptdrqwQQAi0"
      },
      "source": [
        "## Numpy\n",
        "\n",
        "The adoptive father of python's deep learning frameworks is Numpy, the historical library which added support for large, multi-dimensional arrays and matrices to Python.\n",
        "\n",
        "As we will see, modern deep learning frameworks and especially PyTorch have drawn largely from Numpy's API, while at the same time overcoming its limitations, especially the absence of GPU support or automatic differentiation. The student has become the master.\n",
        "\n",
        "![img](https://i.imgur.com/KaUdmee.png)\n",
        "\n",
        "We will mainly use PyTorch  tensors for implementing our Deep Learning systems, but knowing how to use Numpy remains very important. Note that:\n",
        "\n",
        "- Numpy arrays and PyTorch tensors are very similar, most of the features that we will explain for PyTorch tensors apply also to Numpy arrays.\n",
        "- In real DL systems you need to constantly switch between PyTorch and Numpy.\n",
        "\n",
        "If you have previous knowledge in Matlab, we recommend the [numpy for Matlab users page](https://numpy.org/doc/stable/user/numpy-for-matlab-users.html) as a useful resource.\n",
        "\n",
        "\n"
      ]
    },
    {
      "cell_type": "code",
      "metadata": {
        "id": "eRzmry5qj8DD"
      },
      "source": [
        "import numpy as np"
      ],
      "execution_count": null,
      "outputs": []
    },
    {
      "cell_type": "markdown",
      "metadata": {
        "id": "xsfPgLP9S0gA"
      },
      "source": [
        "## PyTorch\n",
        "\n",
        "During the course we'll use and learn many parts of its API.\n",
        "You should also familiarize with the [PyTorch Documentation](https://pytorch.org/docs/stable/) as it will greatly assist you.\n",
        "\n",
        "\n"
      ]
    },
    {
      "cell_type": "code",
      "metadata": {
        "id": "SWHsmm2OTqZK",
        "colab": {
          "base_uri": "https://localhost:8080/",
          "height": 35
        },
        "outputId": "09f8ba7f-8e5b-4bb3-b9a2-3ea4936e9695"
      },
      "source": [
        "import torch\n",
        "torch.__version__"
      ],
      "execution_count": null,
      "outputs": [
        {
          "output_type": "execute_result",
          "data": {
            "application/vnd.google.colaboratory.intrinsic+json": {
              "type": "string"
            },
            "text/plain": [
              "'1.10.0+cu111'"
            ]
          },
          "metadata": {},
          "execution_count": 2
        }
      ]
    },
    {
      "cell_type": "markdown",
      "metadata": {
        "id": "7odUeGK8TmVh"
      },
      "source": [
        "### **PyTorch Tensor**\n",
        "\n",
        "The ``Tensor`` class is very similar to numpy's ``ndarray`` and provides most of its functionality.\n",
        "\n",
        "\n",
        "However, it also has two important distinctions:\n",
        "\n",
        "- Support for GPU computations.\n",
        "- Each tensor may store extra information needed to perform back propagation:\n",
        "  - The gradient tensor w.r.t. some variable (e.g. the loss)\n",
        "  - A node representing an operation in the computational graph that produced this tensor.\n",
        "\n",
        "\n",
        "Keep in mind:\n",
        "\n",
        "- Usually **tensor operations are not in-place**"
      ]
    },
    {
      "cell_type": "markdown",
      "metadata": {
        "id": "dkkmkYGDXFFU"
      },
      "source": [
        "#### **Tensor instantiation**\n",
        "\n",
        "A tensor represents an n-dimensional grid of values, **all of the same type**. "
      ]
    },
    {
      "cell_type": "code",
      "metadata": {
        "id": "F-i2-H7QU7DH",
        "colab": {
          "base_uri": "https://localhost:8080/"
        },
        "outputId": "6509b1d3-3e5e-45ed-fde1-80fad5102332"
      },
      "source": [
        "# Basic tensor creation from python lists\n",
        "torch.tensor([[1, 2, 3], [4, 5, 6]], dtype=torch.int32)"
      ],
      "execution_count": null,
      "outputs": [
        {
          "output_type": "execute_result",
          "data": {
            "text/plain": [
              "tensor([[1, 2, 3],\n",
              "        [4, 5, 6]], dtype=torch.int32)"
            ]
          },
          "metadata": {},
          "execution_count": 3
        }
      ]
    },
    {
      "cell_type": "code",
      "metadata": {
        "id": "5LNGnqk3VbkU",
        "colab": {
          "base_uri": "https://localhost:8080/"
        },
        "outputId": "a3447a83-0e91-4615-e1fb-10f67423f62e"
      },
      "source": [
        "# Some other tensor construction methods\n",
        "torch.zeros((3,5))"
      ],
      "execution_count": null,
      "outputs": [
        {
          "output_type": "execute_result",
          "data": {
            "text/plain": [
              "tensor([[0., 0., 0., 0., 0.],\n",
              "        [0., 0., 0., 0., 0.],\n",
              "        [0., 0., 0., 0., 0.]])"
            ]
          },
          "metadata": {},
          "execution_count": 4
        }
      ]
    },
    {
      "cell_type": "code",
      "metadata": {
        "id": "8et3bE93WLBR",
        "colab": {
          "base_uri": "https://localhost:8080/"
        },
        "outputId": "51495d64-c2e7-4bd5-92e3-e6509a78458e"
      },
      "source": [
        "torch.ones((2,5), dtype=torch.float64)"
      ],
      "execution_count": null,
      "outputs": [
        {
          "output_type": "execute_result",
          "data": {
            "text/plain": [
              "tensor([[1., 1., 1., 1., 1.],\n",
              "        [1., 1., 1., 1., 1.]], dtype=torch.float64)"
            ]
          },
          "metadata": {},
          "execution_count": 5
        }
      ]
    },
    {
      "cell_type": "code",
      "metadata": {
        "id": "v2Ehsm4WcML0",
        "colab": {
          "base_uri": "https://localhost:8080/"
        },
        "outputId": "ad0e2501-ccc1-4d99-b422-fe2d33a343f0"
      },
      "source": [
        "torch.eye(4)"
      ],
      "execution_count": null,
      "outputs": [
        {
          "output_type": "execute_result",
          "data": {
            "text/plain": [
              "tensor([[1., 0., 0., 0.],\n",
              "        [0., 1., 0., 0.],\n",
              "        [0., 0., 1., 0.],\n",
              "        [0., 0., 0., 1.]])"
            ]
          },
          "metadata": {},
          "execution_count": 6
        }
      ]
    },
    {
      "cell_type": "code",
      "metadata": {
        "id": "jokiBKanWFIE",
        "colab": {
          "base_uri": "https://localhost:8080/"
        },
        "outputId": "11285e5d-3f7e-4ad7-f75c-35f704c4f79a"
      },
      "source": [
        "torch.rand((2,2))"
      ],
      "execution_count": null,
      "outputs": [
        {
          "output_type": "execute_result",
          "data": {
            "text/plain": [
              "tensor([[0.8948, 0.2730],\n",
              "        [0.8962, 0.3212]])"
            ]
          },
          "metadata": {},
          "execution_count": 7
        }
      ]
    },
    {
      "cell_type": "code",
      "metadata": {
        "id": "DHV8h3LVWRaI",
        "colab": {
          "base_uri": "https://localhost:8080/"
        },
        "outputId": "7d64f245-e9bf-4e95-eb53-8639b8438d6b"
      },
      "source": [
        "torch.randint(0, 100, (3,3))"
      ],
      "execution_count": null,
      "outputs": [
        {
          "output_type": "execute_result",
          "data": {
            "text/plain": [
              "tensor([[ 5, 22, 27],\n",
              "        [88, 86, 71],\n",
              "        [10, 36, 65]])"
            ]
          },
          "metadata": {},
          "execution_count": 8
        }
      ]
    },
    {
      "cell_type": "code",
      "metadata": {
        "id": "zsf9dn4CWl2V",
        "colab": {
          "base_uri": "https://localhost:8080/"
        },
        "outputId": "f3439542-0fc1-467c-ae4d-bc1a8c5724ae"
      },
      "source": [
        "t = torch.rand((3, 3))\n",
        "torch.ones_like(t)"
      ],
      "execution_count": null,
      "outputs": [
        {
          "output_type": "execute_result",
          "data": {
            "text/plain": [
              "tensor([[1., 1., 1.],\n",
              "        [1., 1., 1.],\n",
              "        [1., 1., 1.]])"
            ]
          },
          "metadata": {},
          "execution_count": 9
        }
      ]
    },
    {
      "cell_type": "markdown",
      "metadata": {
        "id": "KiRfQEztdwqE"
      },
      "source": [
        "It is possible to easily convert to/from Numpy tensors:"
      ]
    },
    {
      "cell_type": "code",
      "metadata": {
        "id": "aI5VsGZJd2rV",
        "colab": {
          "base_uri": "https://localhost:8080/"
        },
        "outputId": "cd2d8c45-d468-46bc-9845-ebd4842fb944"
      },
      "source": [
        "t = torch.rand((3, 3), dtype=torch.float32)\n",
        "t.numpy()"
      ],
      "execution_count": null,
      "outputs": [
        {
          "output_type": "execute_result",
          "data": {
            "text/plain": [
              "array([[0.34764814, 0.05620378, 0.5065608 ],\n",
              "       [0.29674816, 0.7696862 , 0.72671676],\n",
              "       [0.212026  , 0.12580675, 0.55661184]], dtype=float32)"
            ]
          },
          "metadata": {},
          "execution_count": 10
        }
      ]
    },
    {
      "cell_type": "code",
      "metadata": {
        "id": "Wt4Uy9Bbd81h",
        "colab": {
          "base_uri": "https://localhost:8080/"
        },
        "outputId": "bb532ffa-1678-4670-a94b-9e058e35d281"
      },
      "source": [
        "n = np.random.rand(3,3).astype(np.float16)\n",
        "torch.from_numpy(n)"
      ],
      "execution_count": null,
      "outputs": [
        {
          "output_type": "execute_result",
          "data": {
            "text/plain": [
              "tensor([[0.8945, 0.0946, 0.5635],\n",
              "        [0.4756, 0.4873, 0.9878],\n",
              "        [0.8042, 0.5835, 0.7417]], dtype=torch.float16)"
            ]
          },
          "metadata": {},
          "execution_count": 11
        }
      ]
    },
    {
      "cell_type": "markdown",
      "metadata": {
        "id": "6FYkcuhs84Sp"
      },
      "source": [
        "There are many other functions available to create tensors!"
      ]
    },
    {
      "cell_type": "markdown",
      "metadata": {
        "id": "RPEmhFYd5TK-"
      },
      "source": [
        "> **EXERCISE**\n",
        ">\n",
        "> Create a matrix $M \\in \\mathbb{R}^{3 \\times 3}$ that is filled with 2 along the diagonal and 1 elsewhere, that is:\n",
        ">\n",
        "> $$\n",
        "m_{ij} =\n",
        "\\begin{cases}\n",
        "2 & \\text{if } i = j \\\\\n",
        "1 & \\text{otherwise}\n",
        "\\end{cases}\n",
        "$$ "
      ]
    },
    {
      "cell_type": "code",
      "source": [
        "# 📝 write your solution in this cell\n"
      ],
      "metadata": {
        "id": "pAnntNcu9otu"
      },
      "execution_count": null,
      "outputs": []
    },
    {
      "cell_type": "code",
      "metadata": {
        "id": "A2tjmfWbYk9P",
        "colab": {
          "base_uri": "https://localhost:8080/"
        },
        "cellView": "form",
        "outputId": "60b852ee-ad06-43bd-b105-e8d286cccf4f"
      },
      "source": [
        "# @title 👀 Solution\n",
        "\n",
        "\n",
        "torch.ones((3,3)) + torch.eye(3)"
      ],
      "execution_count": null,
      "outputs": [
        {
          "output_type": "execute_result",
          "data": {
            "text/plain": [
              "tensor([[2., 1., 1.],\n",
              "        [1., 2., 1.],\n",
              "        [1., 1., 2.]])"
            ]
          },
          "metadata": {},
          "execution_count": 13
        }
      ]
    },
    {
      "cell_type": "markdown",
      "metadata": {
        "id": "_c7X85hbWs0c"
      },
      "source": [
        "#### **Tensor properties**"
      ]
    },
    {
      "cell_type": "markdown",
      "metadata": {
        "id": "1XCHWcMlbhH0"
      },
      "source": [
        "The **type** of a tensor is the type of each element contained in the tensor:"
      ]
    },
    {
      "cell_type": "code",
      "metadata": {
        "id": "XP4CyRTmXYpd",
        "colab": {
          "base_uri": "https://localhost:8080/"
        },
        "outputId": "ad17febf-6cfb-4fb1-f83f-b29950bb4370"
      },
      "source": [
        "t = torch.rand((3, 3))\n",
        "t.dtype"
      ],
      "execution_count": null,
      "outputs": [
        {
          "output_type": "execute_result",
          "data": {
            "text/plain": [
              "torch.float32"
            ]
          },
          "metadata": {},
          "execution_count": 14
        }
      ]
    },
    {
      "cell_type": "markdown",
      "metadata": {
        "id": "TBoZHIlybZUV"
      },
      "source": [
        "\n",
        "The **shape** of a tensor is a tuple of integers giving the size of the tensor along each dimension, e.g. for a matrix $M \\in \\mathbb{R}^{3 \\times 5}$:"
      ]
    },
    {
      "cell_type": "code",
      "metadata": {
        "id": "PjuSpqbvXbqs",
        "colab": {
          "base_uri": "https://localhost:8080/"
        },
        "outputId": "7cae42e3-6ff7-4190-adf7-e33e9743eafe"
      },
      "source": [
        "t = torch.rand((3,5))\n",
        "t.shape"
      ],
      "execution_count": null,
      "outputs": [
        {
          "output_type": "execute_result",
          "data": {
            "text/plain": [
              "torch.Size([3, 5])"
            ]
          },
          "metadata": {},
          "execution_count": 15
        }
      ]
    },
    {
      "cell_type": "markdown",
      "metadata": {
        "id": "UFhAblNmbswv"
      },
      "source": [
        "The **device** of a tensor indicates the memory in which the tensor currently resides: RAM (denoted as ``cpu``) or GPU memory (denoted as ``cuda``)"
      ]
    },
    {
      "cell_type": "code",
      "metadata": {
        "id": "_4okES1zXcy2",
        "colab": {
          "base_uri": "https://localhost:8080/"
        },
        "outputId": "b6ccd437-1bed-4453-b65a-b9d396375664"
      },
      "source": [
        "t = torch.rand((3,5))\n",
        "t.device"
      ],
      "execution_count": null,
      "outputs": [
        {
          "output_type": "execute_result",
          "data": {
            "text/plain": [
              "device(type='cpu')"
            ]
          },
          "metadata": {},
          "execution_count": 16
        }
      ]
    },
    {
      "cell_type": "markdown",
      "metadata": {
        "id": "UM0UCkZ49DPk"
      },
      "source": [
        "> **EXERCISE**\n",
        ">\n",
        "> Given a matrix $X \\in \\mathbb{R}^{m \\times n}$, create another matrix $Y \\in \\mathbb{R}^{m \\times 3}$ filled with ones."
      ]
    },
    {
      "cell_type": "code",
      "metadata": {
        "id": "_GJinHgLzs11"
      },
      "source": [
        "# Exercise variables\n",
        "x = torch.rand(100,42)\n",
        "\n",
        "# Your solution:\n",
        "# y = ?"
      ],
      "execution_count": null,
      "outputs": []
    },
    {
      "cell_type": "code",
      "source": [
        "# @title 👀 Solution\n",
        "\n",
        "\n",
        "torch.ones((x.shape[0], 3))"
      ],
      "metadata": {
        "colab": {
          "base_uri": "https://localhost:8080/"
        },
        "cellView": "form",
        "id": "A_UxL8zE-n8z",
        "outputId": "00c2885a-5888-46b5-99cd-d533eb3cf90e"
      },
      "execution_count": null,
      "outputs": [
        {
          "output_type": "execute_result",
          "data": {
            "text/plain": [
              "tensor([[1., 1., 1.],\n",
              "        [1., 1., 1.],\n",
              "        [1., 1., 1.],\n",
              "        [1., 1., 1.],\n",
              "        [1., 1., 1.],\n",
              "        [1., 1., 1.],\n",
              "        [1., 1., 1.],\n",
              "        [1., 1., 1.],\n",
              "        [1., 1., 1.],\n",
              "        [1., 1., 1.],\n",
              "        [1., 1., 1.],\n",
              "        [1., 1., 1.],\n",
              "        [1., 1., 1.],\n",
              "        [1., 1., 1.],\n",
              "        [1., 1., 1.],\n",
              "        [1., 1., 1.],\n",
              "        [1., 1., 1.],\n",
              "        [1., 1., 1.],\n",
              "        [1., 1., 1.],\n",
              "        [1., 1., 1.],\n",
              "        [1., 1., 1.],\n",
              "        [1., 1., 1.],\n",
              "        [1., 1., 1.],\n",
              "        [1., 1., 1.],\n",
              "        [1., 1., 1.],\n",
              "        [1., 1., 1.],\n",
              "        [1., 1., 1.],\n",
              "        [1., 1., 1.],\n",
              "        [1., 1., 1.],\n",
              "        [1., 1., 1.],\n",
              "        [1., 1., 1.],\n",
              "        [1., 1., 1.],\n",
              "        [1., 1., 1.],\n",
              "        [1., 1., 1.],\n",
              "        [1., 1., 1.],\n",
              "        [1., 1., 1.],\n",
              "        [1., 1., 1.],\n",
              "        [1., 1., 1.],\n",
              "        [1., 1., 1.],\n",
              "        [1., 1., 1.],\n",
              "        [1., 1., 1.],\n",
              "        [1., 1., 1.],\n",
              "        [1., 1., 1.],\n",
              "        [1., 1., 1.],\n",
              "        [1., 1., 1.],\n",
              "        [1., 1., 1.],\n",
              "        [1., 1., 1.],\n",
              "        [1., 1., 1.],\n",
              "        [1., 1., 1.],\n",
              "        [1., 1., 1.],\n",
              "        [1., 1., 1.],\n",
              "        [1., 1., 1.],\n",
              "        [1., 1., 1.],\n",
              "        [1., 1., 1.],\n",
              "        [1., 1., 1.],\n",
              "        [1., 1., 1.],\n",
              "        [1., 1., 1.],\n",
              "        [1., 1., 1.],\n",
              "        [1., 1., 1.],\n",
              "        [1., 1., 1.],\n",
              "        [1., 1., 1.],\n",
              "        [1., 1., 1.],\n",
              "        [1., 1., 1.],\n",
              "        [1., 1., 1.],\n",
              "        [1., 1., 1.],\n",
              "        [1., 1., 1.],\n",
              "        [1., 1., 1.],\n",
              "        [1., 1., 1.],\n",
              "        [1., 1., 1.],\n",
              "        [1., 1., 1.],\n",
              "        [1., 1., 1.],\n",
              "        [1., 1., 1.],\n",
              "        [1., 1., 1.],\n",
              "        [1., 1., 1.],\n",
              "        [1., 1., 1.],\n",
              "        [1., 1., 1.],\n",
              "        [1., 1., 1.],\n",
              "        [1., 1., 1.],\n",
              "        [1., 1., 1.],\n",
              "        [1., 1., 1.],\n",
              "        [1., 1., 1.],\n",
              "        [1., 1., 1.],\n",
              "        [1., 1., 1.],\n",
              "        [1., 1., 1.],\n",
              "        [1., 1., 1.],\n",
              "        [1., 1., 1.],\n",
              "        [1., 1., 1.],\n",
              "        [1., 1., 1.],\n",
              "        [1., 1., 1.],\n",
              "        [1., 1., 1.],\n",
              "        [1., 1., 1.],\n",
              "        [1., 1., 1.],\n",
              "        [1., 1., 1.],\n",
              "        [1., 1., 1.],\n",
              "        [1., 1., 1.],\n",
              "        [1., 1., 1.],\n",
              "        [1., 1., 1.],\n",
              "        [1., 1., 1.],\n",
              "        [1., 1., 1.],\n",
              "        [1., 1., 1.]])"
            ]
          },
          "metadata": {},
          "execution_count": 18
        }
      ]
    },
    {
      "cell_type": "markdown",
      "metadata": {
        "id": "_8Wa3JFCXd7J"
      },
      "source": [
        "#### **Using the GPU**\n",
        "\n",
        "Thanks to the explosion of the videogame industry in the last 50 years, the performance of the chips specialized in rendering and processing graphics --known as GPUs-- has dramatically improved.\n",
        "\n",
        "In 2007 NVidia realized the potential of parallel GPU computing outside the videogame world, and released the first version of the CUDA framework, allowing  software developers to use GPUs for general purpose processing.\n",
        "\n",
        "Graphics operations are mostly linear algebra operations, and accelerating them can turn very useful in many other fields.\n",
        "\n",
        "In 2012 Hinton et al. [demonstrated](https://en.wikipedia.org/wiki/AlexNet) the huge potential of GPUs in training deep neural networks, starting *de facto* the glorious days of deep learning."
      ]
    },
    {
      "cell_type": "code",
      "metadata": {
        "id": "bgZST3s_CaLm",
        "colab": {
          "base_uri": "https://localhost:8080/",
          "height": 321
        },
        "cellView": "form",
        "outputId": "9a5eead0-fb69-411a-e911-3032181b5d2d"
      },
      "source": [
        "# @title GPUs are very powerful\n",
        "\n",
        "from IPython.display import YouTubeVideo, HTML, display\n",
        "\n",
        "display(YouTubeVideo('-P28LKWTzrI?t=14'))"
      ],
      "execution_count": null,
      "outputs": [
        {
          "output_type": "display_data",
          "data": {
            "text/html": [
              "\n",
              "        <iframe\n",
              "            width=\"400\"\n",
              "            height=\"300\"\n",
              "            src=\"https://www.youtube.com/embed/-P28LKWTzrI?t=14\"\n",
              "            frameborder=\"0\"\n",
              "            allowfullscreen\n",
              "        ></iframe>\n",
              "        "
            ],
            "text/plain": [
              "<IPython.lib.display.YouTubeVideo at 0x7fe55f7c1dd0>"
            ]
          },
          "metadata": {}
        }
      ]
    },
    {
      "cell_type": "code",
      "metadata": {
        "id": "gbIogawQYBvW",
        "colab": {
          "base_uri": "https://localhost:8080/"
        },
        "outputId": "2e7b09e4-6e0e-464f-b911-ad40a6735948"
      },
      "source": [
        "# Check if the GPU is available\n",
        "torch.cuda.is_available()"
      ],
      "execution_count": null,
      "outputs": [
        {
          "output_type": "execute_result",
          "data": {
            "text/plain": [
              "True"
            ]
          },
          "metadata": {},
          "execution_count": 20
        }
      ]
    },
    {
      "cell_type": "code",
      "metadata": {
        "id": "TVYbgoigX_PL",
        "colab": {
          "base_uri": "https://localhost:8080/"
        },
        "outputId": "dd4ea9e6-627d-49c8-9e13-88c745586c27"
      },
      "source": [
        "# If available use the GPU\n",
        "device = torch.device('cuda' if torch.cuda.is_available() else 'cpu')\n",
        "device"
      ],
      "execution_count": null,
      "outputs": [
        {
          "output_type": "execute_result",
          "data": {
            "text/plain": [
              "device(type='cuda')"
            ]
          },
          "metadata": {},
          "execution_count": 21
        }
      ]
    },
    {
      "cell_type": "code",
      "metadata": {
        "id": "yhHVeolzWZQn",
        "colab": {
          "base_uri": "https://localhost:8080/"
        },
        "outputId": "a57472c3-0ce8-4ff1-e995-bdfce178f51d"
      },
      "source": [
        "t = torch.rand((3,3))\n",
        "t = t.to(device)  # Pay attention to re-assign the variable!\n",
        "t"
      ],
      "execution_count": null,
      "outputs": [
        {
          "output_type": "execute_result",
          "data": {
            "text/plain": [
              "tensor([[0.6782, 0.4771, 0.2785],\n",
              "        [0.9892, 0.4526, 0.1411],\n",
              "        [0.2619, 0.0843, 0.5315]], device='cuda:0')"
            ]
          },
          "metadata": {},
          "execution_count": 22
        }
      ]
    },
    {
      "cell_type": "code",
      "metadata": {
        "id": "Al_WAx4RWDy2",
        "colab": {
          "base_uri": "https://localhost:8080/"
        },
        "outputId": "b94af594-c181-49c5-8d36-f4c54fce359d"
      },
      "source": [
        "# Construct tensors directly on the GPU memory\n",
        "t = torch.ones((5, 5), device='cuda')\n",
        "t"
      ],
      "execution_count": null,
      "outputs": [
        {
          "output_type": "execute_result",
          "data": {
            "text/plain": [
              "tensor([[1., 1., 1., 1., 1.],\n",
              "        [1., 1., 1., 1., 1.],\n",
              "        [1., 1., 1., 1., 1.],\n",
              "        [1., 1., 1., 1., 1.],\n",
              "        [1., 1., 1., 1., 1.]], device='cuda:0')"
            ]
          },
          "metadata": {},
          "execution_count": 23
        }
      ]
    },
    {
      "cell_type": "code",
      "metadata": {
        "id": "nuynABfrVZmD",
        "colab": {
          "base_uri": "https://localhost:8080/"
        },
        "outputId": "1d7f8f8a-b305-45ff-f122-a613430fe3e7"
      },
      "source": [
        "t = torch.rand((3,3))\n",
        "\n",
        "# Other methods to transfer tensors between devices\n",
        "\n",
        "# Be careful of hardcoded cuda calls: the code will not run if a GPU is not available\n",
        "t = t.cuda()\n",
        "t"
      ],
      "execution_count": null,
      "outputs": [
        {
          "output_type": "execute_result",
          "data": {
            "text/plain": [
              "tensor([[0.0231, 0.5473, 0.1176],\n",
              "        [0.7931, 0.3965, 0.4293],\n",
              "        [0.9700, 0.5285, 0.2406]], device='cuda:0')"
            ]
          },
          "metadata": {},
          "execution_count": 24
        }
      ]
    },
    {
      "cell_type": "code",
      "metadata": {
        "id": "JkOX8icwVXPK",
        "colab": {
          "base_uri": "https://localhost:8080/"
        },
        "outputId": "9524a7db-622c-4b3c-e9e6-89d2ee59df42"
      },
      "source": [
        "t = t.cpu()\n",
        "t"
      ],
      "execution_count": null,
      "outputs": [
        {
          "output_type": "execute_result",
          "data": {
            "text/plain": [
              "tensor([[0.0231, 0.5473, 0.1176],\n",
              "        [0.7931, 0.3965, 0.4293],\n",
              "        [0.9700, 0.5285, 0.2406]])"
            ]
          },
          "metadata": {},
          "execution_count": 25
        }
      ]
    },
    {
      "cell_type": "markdown",
      "metadata": {
        "id": "1g8l8j4deyZ2"
      },
      "source": [
        "#### **Tensor rank**\n",
        "\n",
        "In **Numpy** and **PyTorch** the **rank** means **number of dimensions** (different meaning in Linear Algebra!)"
      ]
    },
    {
      "cell_type": "code",
      "metadata": {
        "id": "mj0gWQ-FgsZ2"
      },
      "source": [
        "# Utility function\n",
        "\n",
        "from typing import Union, Sequence\n",
        "\n",
        "def print_arr(\n",
        "    *arr: Sequence[Union[torch.Tensor, np.ndarray]], prefix: str = \"\"\n",
        ") -> None:\n",
        "    \"\"\"Pretty print tensors, together with their shape and type\n",
        "\n",
        "    :param arr: one or more tensors\n",
        "    :param prefix: prefix to use when printing the tensors\n",
        "    \"\"\"\n",
        "    print(\n",
        "        \"\\n\\n\".join(\n",
        "            f\"{prefix}{str(x)} <shape: {x.shape}> <dtype: {x.dtype}>\" for x in arr\n",
        "        )\n",
        "    )"
      ],
      "execution_count": null,
      "outputs": []
    },
    {
      "cell_type": "markdown",
      "metadata": {
        "id": "pF8r6t6VTbrf"
      },
      "source": [
        "- **rank-0** tensors are just scalars"
      ]
    },
    {
      "cell_type": "code",
      "metadata": {
        "id": "lfSjfJ7bTHlZ",
        "colab": {
          "base_uri": "https://localhost:8080/"
        },
        "outputId": "7a195c88-065c-42cf-9b18-b0c4f4238a05"
      },
      "source": [
        "t0 = torch.tensor(3, dtype=torch.double)\n",
        "\n",
        "print_arr(t0) "
      ],
      "execution_count": null,
      "outputs": [
        {
          "output_type": "stream",
          "name": "stdout",
          "text": [
            "tensor(3., dtype=torch.float64) <shape: torch.Size([])> <dtype: torch.float64>\n"
          ]
        }
      ]
    },
    {
      "cell_type": "code",
      "metadata": {
        "id": "4O2GLaL0SxHn",
        "colab": {
          "base_uri": "https://localhost:8080/"
        },
        "outputId": "3d5d2184-5b1f-4882-c2cb-995a4c2cae5a"
      },
      "source": [
        "item = t0.item()  # convert tensor scalar to a python base type\n",
        "item, type(item)"
      ],
      "execution_count": null,
      "outputs": [
        {
          "output_type": "execute_result",
          "data": {
            "text/plain": [
              "(3.0, float)"
            ]
          },
          "metadata": {},
          "execution_count": 28
        }
      ]
    },
    {
      "cell_type": "code",
      "metadata": {
        "colab": {
          "base_uri": "https://localhost:8080/"
        },
        "id": "aPcQfgGbaEqv",
        "outputId": "704a01f4-3f95-4d4c-dd13-4a140dc6ac1e"
      },
      "source": [
        "# Be careful, a non-scalar tensor cannot be converted with an .item() call\n",
        "try:\n",
        "  x = torch.ones(3).item()\n",
        "except ValueError as e:\n",
        "  print('Error:', e)"
      ],
      "execution_count": null,
      "outputs": [
        {
          "output_type": "stream",
          "name": "stdout",
          "text": [
            "Error: only one element tensors can be converted to Python scalars\n"
          ]
        }
      ]
    },
    {
      "cell_type": "markdown",
      "metadata": {
        "id": "El2afq3-Sujl"
      },
      "source": [
        "- **rank-1** tensors of length ``n`` have a shape of ``(n,)``"
      ]
    },
    {
      "cell_type": "code",
      "metadata": {
        "id": "Twmbub4VSrvt",
        "colab": {
          "base_uri": "https://localhost:8080/"
        },
        "outputId": "ee8f5e55-19c3-4aa6-fd56-3cb101d2c6a6"
      },
      "source": [
        "# A rank-1 array\n",
        "t1 = torch.tensor([1, 2, 3])\n",
        "\n",
        "print_arr(t1)"
      ],
      "execution_count": null,
      "outputs": [
        {
          "output_type": "stream",
          "name": "stdout",
          "text": [
            "tensor([1, 2, 3]) <shape: torch.Size([3])> <dtype: torch.int64>\n"
          ]
        }
      ]
    },
    {
      "cell_type": "code",
      "metadata": {
        "id": "3LA-5C4kSHXv",
        "colab": {
          "base_uri": "https://localhost:8080/"
        },
        "outputId": "172a5b6b-9f16-402d-8c7b-26e1331bc3cd"
      },
      "source": [
        "# A rank-1 array with a single scalar\n",
        "print_arr(torch.tensor([42]))"
      ],
      "execution_count": null,
      "outputs": [
        {
          "output_type": "stream",
          "name": "stdout",
          "text": [
            "tensor([42]) <shape: torch.Size([1])> <dtype: torch.int64>\n"
          ]
        }
      ]
    },
    {
      "cell_type": "code",
      "metadata": {
        "colab": {
          "base_uri": "https://localhost:8080/"
        },
        "id": "7xuBu8bKcbgl",
        "outputId": "1bd74718-9bdb-4b6d-a47e-93109e8fb135"
      },
      "source": [
        "# PyTorch and NumPy are smart: even if the tensor is not rank-0, if \n",
        "# it can \"converted\" in a rank-0 tensor the .item() will work\n",
        "# This operation is called broadcasting, we will see it in detail in the next \n",
        "# lab.\n",
        "torch.tensor([42]).item()"
      ],
      "execution_count": null,
      "outputs": [
        {
          "output_type": "execute_result",
          "data": {
            "text/plain": [
              "42"
            ]
          },
          "metadata": {},
          "execution_count": 32
        }
      ]
    },
    {
      "cell_type": "markdown",
      "metadata": {
        "id": "Lj0NVuY3Rzp0"
      },
      "source": [
        "- **rank-2** tensors have a shape of ``(n, m)``"
      ]
    },
    {
      "cell_type": "code",
      "metadata": {
        "id": "wui6OfMFPdnM",
        "colab": {
          "base_uri": "https://localhost:8080/"
        },
        "outputId": "c7728d03-3a16-4df3-8a59-360f2d74b4b1"
      },
      "source": [
        "t2 = torch.tensor([[1, 2, 3], [4, 5, 6]])\n",
        "\n",
        "print_arr(t2)"
      ],
      "execution_count": null,
      "outputs": [
        {
          "output_type": "stream",
          "name": "stdout",
          "text": [
            "tensor([[1, 2, 3],\n",
            "        [4, 5, 6]]) <shape: torch.Size([2, 3])> <dtype: torch.int64>\n"
          ]
        }
      ]
    },
    {
      "cell_type": "code",
      "metadata": {
        "id": "_hBNed-yOmmQ",
        "colab": {
          "base_uri": "https://localhost:8080/"
        },
        "outputId": "ec887bdd-d913-4065-d598-e67a319494ae"
      },
      "source": [
        "# A column vector is a rank-2 tensor\n",
        "t_col = t1.reshape(-1, 1)\n",
        "\n",
        "print_arr(t_col)"
      ],
      "execution_count": null,
      "outputs": [
        {
          "output_type": "stream",
          "name": "stdout",
          "text": [
            "tensor([[1],\n",
            "        [2],\n",
            "        [3]]) <shape: torch.Size([3, 1])> <dtype: torch.int64>\n"
          ]
        }
      ]
    },
    {
      "cell_type": "code",
      "metadata": {
        "id": "Qad_RigUjEtA",
        "colab": {
          "base_uri": "https://localhost:8080/"
        },
        "outputId": "c16b4504-7dde-4b59-dea7-79cc26142a16"
      },
      "source": [
        "# A row vector is a rank-2 tensor\n",
        "t_row = t1.reshape(1, -1)\n",
        "\n",
        "print_arr(t_row)"
      ],
      "execution_count": null,
      "outputs": [
        {
          "output_type": "stream",
          "name": "stdout",
          "text": [
            "tensor([[1, 2, 3]]) <shape: torch.Size([1, 3])> <dtype: torch.int64>\n"
          ]
        }
      ]
    },
    {
      "cell_type": "markdown",
      "metadata": {
        "id": "KJ3IFNmU0_a2"
      },
      "source": [
        "> **NOTE**\n",
        ">\n",
        "> Rank-1 tensors can be both row and column tensors\n"
      ]
    },
    {
      "cell_type": "code",
      "source": [
        "# This matrix multiplication should work only if `torch.ones(10)` is a row\n",
        "_ = torch.ones(10) @ torch.ones(10, 3)\n",
        "\n",
        "# This matrix multiplication should work only if `torch.ones(10)` is a column\n",
        "_ = torch.ones(3, 10) @ torch.ones(10)"
      ],
      "metadata": {
        "id": "sOdxEQFwBpgy"
      },
      "execution_count": null,
      "outputs": []
    },
    {
      "cell_type": "markdown",
      "metadata": {
        "id": "BeGPcSYMOlv0"
      },
      "source": [
        "- **rank-k** tensors have a shape of $(n_1, \\dots, n_k)$"
      ]
    },
    {
      "cell_type": "code",
      "metadata": {
        "id": "hg5bbeCIjuL_",
        "colab": {
          "base_uri": "https://localhost:8080/"
        },
        "outputId": "89f3ad42-0eb4-4171-8808-84b2935b62e5"
      },
      "source": [
        "print_arr(torch.zeros((2, 3, 4)))"
      ],
      "execution_count": null,
      "outputs": [
        {
          "output_type": "stream",
          "name": "stdout",
          "text": [
            "tensor([[[0., 0., 0., 0.],\n",
            "         [0., 0., 0., 0.],\n",
            "         [0., 0., 0., 0.]],\n",
            "\n",
            "        [[0., 0., 0., 0.],\n",
            "         [0., 0., 0., 0.],\n",
            "         [0., 0., 0., 0.]]]) <shape: torch.Size([2, 3, 4])> <dtype: torch.float32>\n"
          ]
        }
      ]
    },
    {
      "cell_type": "code",
      "metadata": {
        "id": "3O68PwBGOjpe",
        "colab": {
          "base_uri": "https://localhost:8080/"
        },
        "outputId": "9c63f23d-193f-4662-85bb-e7d7b5bf08b8"
      },
      "source": [
        "print_arr(torch.ones((2, 2, 2, 2)))"
      ],
      "execution_count": null,
      "outputs": [
        {
          "output_type": "stream",
          "name": "stdout",
          "text": [
            "tensor([[[[1., 1.],\n",
            "          [1., 1.]],\n",
            "\n",
            "         [[1., 1.],\n",
            "          [1., 1.]]],\n",
            "\n",
            "\n",
            "        [[[1., 1.],\n",
            "          [1., 1.]],\n",
            "\n",
            "         [[1., 1.],\n",
            "          [1., 1.]]]]) <shape: torch.Size([2, 2, 2, 2])> <dtype: torch.float32>\n"
          ]
        }
      ]
    },
    {
      "cell_type": "markdown",
      "metadata": {
        "id": "xkugOzEKi3wk"
      },
      "source": [
        "> **EXERCISE**\n",
        ">\n",
        "> Build a tensor $X \\in \\mathbb{R}^{k \\times k}$ filled with zeros and the sequence $[0, ..., k-1]$ along the diagonal"
      ]
    },
    {
      "cell_type": "code",
      "metadata": {
        "id": "v_8mTH8pdzHz"
      },
      "source": [
        "# your solution\n",
        "k = 3"
      ],
      "execution_count": null,
      "outputs": []
    },
    {
      "cell_type": "code",
      "source": [
        "# @title 👀 Solution\n",
        "\n",
        "\n",
        "torch.tensor([[0,0,0], [0,1,0], [0,0,2]])"
      ],
      "metadata": {
        "colab": {
          "base_uri": "https://localhost:8080/"
        },
        "cellView": "form",
        "id": "38L1P8aCCXed",
        "outputId": "62697af7-70ed-47b0-de02-f14006f2edcb"
      },
      "execution_count": null,
      "outputs": [
        {
          "output_type": "execute_result",
          "data": {
            "text/plain": [
              "tensor([[0, 0, 0],\n",
              "        [0, 1, 0],\n",
              "        [0, 0, 2]])"
            ]
          },
          "metadata": {},
          "execution_count": 40
        }
      ]
    },
    {
      "cell_type": "markdown",
      "metadata": {
        "id": "8Dixdu5yjZ0g"
      },
      "source": [
        "> **EXERCISE**\n",
        ">\n",
        "> What is the shape of the following tensor?\n",
        "> \n",
        "> ```python\n",
        "> torch.tensor(\n",
        ">     [\n",
        ">         [[1.0, 1.0, 1.0],\n",
        ">          [1.0, 1.0, 1.0]],\n",
        ">\n",
        ">         [[1.0, 1.0, 1.0],\n",
        ">          [1.0, 1.0, 1.0]],\n",
        ">\n",
        ">         [[1.0, 1.0, 1.0],\n",
        ">          [1.0, 1.0, 1.0]],\n",
        ">\n",
        ">         [[1.0, 1.0, 1.0],\n",
        ">          [1.0, 1.0, 1.0]],\n",
        ">     ]\n",
        "> )\n",
        "> ```\n",
        "\n"
      ]
    },
    {
      "cell_type": "code",
      "metadata": {
        "id": "PXIhMoIO1DJA"
      },
      "source": [
        "# Think about it, then confirm your answer printing on your own: instantiate and print\n",
        "# the shape of this tensor."
      ],
      "execution_count": null,
      "outputs": []
    },
    {
      "cell_type": "markdown",
      "metadata": {
        "id": "tfGGF8mmSJkq"
      },
      "source": [
        "### **Changing and adding dimensions**\n",
        "\n",
        "PyTorch provides several functions to manipulate tensor shapes\n"
      ]
    },
    {
      "cell_type": "markdown",
      "metadata": {
        "id": "i51GvUnwSc0U"
      },
      "source": [
        "#### **Transpose dimension**"
      ]
    },
    {
      "cell_type": "code",
      "metadata": {
        "id": "g1kH1K7XS6KS",
        "colab": {
          "base_uri": "https://localhost:8080/"
        },
        "outputId": "0cfce702-86e2-4a01-c7ea-d2fce26079a2"
      },
      "source": [
        "a = torch.ones((3, 5))\n",
        "a[0, -1] = 0\n",
        "print(\"a: \")\n",
        "print_arr(a)"
      ],
      "execution_count": null,
      "outputs": [
        {
          "output_type": "stream",
          "name": "stdout",
          "text": [
            "a: \n",
            "tensor([[1., 1., 1., 1., 0.],\n",
            "        [1., 1., 1., 1., 1.],\n",
            "        [1., 1., 1., 1., 1.]]) <shape: torch.Size([3, 5])> <dtype: torch.float32>\n"
          ]
        }
      ]
    },
    {
      "cell_type": "code",
      "metadata": {
        "colab": {
          "base_uri": "https://localhost:8080/"
        },
        "id": "DUXAlWb7fJn9",
        "outputId": "85a468fd-05ae-4429-c60a-e6ae85376bf1"
      },
      "source": [
        "a.T"
      ],
      "execution_count": null,
      "outputs": [
        {
          "output_type": "execute_result",
          "data": {
            "text/plain": [
              "tensor([[1., 1., 1.],\n",
              "        [1., 1., 1.],\n",
              "        [1., 1., 1.],\n",
              "        [1., 1., 1.],\n",
              "        [0., 1., 1.]])"
            ]
          },
          "metadata": {},
          "execution_count": 43
        }
      ]
    },
    {
      "cell_type": "code",
      "metadata": {
        "id": "VqEfj7tuTAqK",
        "colab": {
          "base_uri": "https://localhost:8080/"
        },
        "outputId": "4876dc30-66ad-4355-80a3-5abc7201c813"
      },
      "source": [
        "a.transpose(1, 0)  # Swap dimension 1 and 0"
      ],
      "execution_count": null,
      "outputs": [
        {
          "output_type": "execute_result",
          "data": {
            "text/plain": [
              "tensor([[1., 1., 1.],\n",
              "        [1., 1., 1.],\n",
              "        [1., 1., 1.],\n",
              "        [1., 1., 1.],\n",
              "        [0., 1., 1.]])"
            ]
          },
          "metadata": {},
          "execution_count": 44
        }
      ]
    },
    {
      "cell_type": "code",
      "metadata": {
        "id": "9wvUahrTS9uJ",
        "colab": {
          "base_uri": "https://localhost:8080/"
        },
        "outputId": "def28e81-55f5-4c45-b207-94a7104b6efc"
      },
      "source": [
        "torch.einsum('ij -> ji', a)  # any ideas? \n",
        "\n",
        "# In the next notebook we will explain the einstain notation in detail"
      ],
      "execution_count": null,
      "outputs": [
        {
          "output_type": "execute_result",
          "data": {
            "text/plain": [
              "tensor([[1., 1., 1.],\n",
              "        [1., 1., 1.],\n",
              "        [1., 1., 1.],\n",
              "        [1., 1., 1.],\n",
              "        [0., 1., 1.]])"
            ]
          },
          "metadata": {},
          "execution_count": 45
        }
      ]
    },
    {
      "cell_type": "markdown",
      "metadata": {
        "id": "9nXnyRKSfPSw"
      },
      "source": [
        "It is possible to transpose in k-dimensions\n"
      ]
    },
    {
      "cell_type": "code",
      "metadata": {
        "id": "Sww5AtujTPiJ",
        "colab": {
          "base_uri": "https://localhost:8080/"
        },
        "outputId": "d91ec5d4-5039-4f78-c8c1-adad853ac7b3"
      },
      "source": [
        "a = torch.ones((2, 3, 6))\n",
        "a[1, 2, 4] = 42\n",
        "print_arr(a)"
      ],
      "execution_count": null,
      "outputs": [
        {
          "output_type": "stream",
          "name": "stdout",
          "text": [
            "tensor([[[ 1.,  1.,  1.,  1.,  1.,  1.],\n",
            "         [ 1.,  1.,  1.,  1.,  1.,  1.],\n",
            "         [ 1.,  1.,  1.,  1.,  1.,  1.]],\n",
            "\n",
            "        [[ 1.,  1.,  1.,  1.,  1.,  1.],\n",
            "         [ 1.,  1.,  1.,  1.,  1.,  1.],\n",
            "         [ 1.,  1.,  1.,  1., 42.,  1.]]]) <shape: torch.Size([2, 3, 6])> <dtype: torch.float32>\n"
          ]
        }
      ]
    },
    {
      "cell_type": "code",
      "metadata": {
        "id": "bFezEV5uTc1W",
        "colab": {
          "base_uri": "https://localhost:8080/"
        },
        "outputId": "68cb2707-7128-4b2b-edfc-05aae340eeb5"
      },
      "source": [
        "a.transpose(2, 1)"
      ],
      "execution_count": null,
      "outputs": [
        {
          "output_type": "execute_result",
          "data": {
            "text/plain": [
              "tensor([[[ 1.,  1.,  1.],\n",
              "         [ 1.,  1.,  1.],\n",
              "         [ 1.,  1.,  1.],\n",
              "         [ 1.,  1.,  1.],\n",
              "         [ 1.,  1.,  1.],\n",
              "         [ 1.,  1.,  1.]],\n",
              "\n",
              "        [[ 1.,  1.,  1.],\n",
              "         [ 1.,  1.,  1.],\n",
              "         [ 1.,  1.,  1.],\n",
              "         [ 1.,  1.,  1.],\n",
              "         [ 1.,  1., 42.],\n",
              "         [ 1.,  1.,  1.]]])"
            ]
          },
          "metadata": {},
          "execution_count": 47
        }
      ]
    },
    {
      "cell_type": "code",
      "metadata": {
        "id": "pIYTVMyRUC1e",
        "colab": {
          "base_uri": "https://localhost:8080/"
        },
        "outputId": "db27f229-db40-48f4-c5b9-aa767f663481"
      },
      "source": [
        "torch.einsum('ijk->ikj', a)"
      ],
      "execution_count": null,
      "outputs": [
        {
          "output_type": "execute_result",
          "data": {
            "text/plain": [
              "tensor([[[ 1.,  1.,  1.],\n",
              "         [ 1.,  1.,  1.],\n",
              "         [ 1.,  1.,  1.],\n",
              "         [ 1.,  1.,  1.],\n",
              "         [ 1.,  1.,  1.],\n",
              "         [ 1.,  1.,  1.]],\n",
              "\n",
              "        [[ 1.,  1.,  1.],\n",
              "         [ 1.,  1.,  1.],\n",
              "         [ 1.,  1.,  1.],\n",
              "         [ 1.,  1.,  1.],\n",
              "         [ 1.,  1., 42.],\n",
              "         [ 1.,  1.,  1.]]])"
            ]
          },
          "metadata": {},
          "execution_count": 48
        }
      ]
    },
    {
      "cell_type": "code",
      "metadata": {
        "id": "1NMw98vHfXkm"
      },
      "source": [
        "# The shortcuts are handy, but your code becomes less readable.\n",
        "# Most of the time readability is the most important goal to aim for\n",
        "\n",
        "# What do you think a.T will do with the three dimensional tensor? (without looking at the docs!)\n",
        "# a.T\n",
        "\n",
        "# Spoiler: it is confusing even after reading the docs for tensor with shape >2\n",
        "# Prefer readable code to short code!"
      ],
      "execution_count": null,
      "outputs": []
    },
    {
      "cell_type": "markdown",
      "metadata": {
        "id": "a9Jshcp9Ul5O"
      },
      "source": [
        "> **NOTE**\n",
        ">\n",
        "> In Numpy the transpose function is different!\n",
        ">\n",
        "> PyTorch:\n",
        "> `torch.transpose(input, dim0, dim1) → Tensor`\n",
        ">\n",
        "> NumPy:\n",
        "> `numpy.transpose(a, axes=None) -> numpy.ndarray`\n",
        ">\n",
        "> Compare the docs from [numpy](https://numpy.org/doc/stable/reference/generated/numpy.transpose.html) and [pytorch](https://pytorch.org/docs/stable/generated/torch.transpose.html)\n",
        ">\n",
        "> In PyTorch the transpose swaps two dimensions. In NumPy you can specify an entire mapping to shange all the dimensions."
      ]
    },
    {
      "cell_type": "code",
      "metadata": {
        "id": "K9ktDbO5Uswj",
        "colab": {
          "base_uri": "https://localhost:8080/"
        },
        "outputId": "b9c47407-43f9-4d91-99ce-aaa412d8d1d8"
      },
      "source": [
        "a = np.arange(10).reshape(2, 5)\n",
        "a"
      ],
      "execution_count": null,
      "outputs": [
        {
          "output_type": "execute_result",
          "data": {
            "text/plain": [
              "array([[0, 1, 2, 3, 4],\n",
              "       [5, 6, 7, 8, 9]])"
            ]
          },
          "metadata": {},
          "execution_count": 50
        }
      ]
    },
    {
      "cell_type": "code",
      "metadata": {
        "colab": {
          "base_uri": "https://localhost:8080/"
        },
        "id": "h0QGO8d_hFmQ",
        "outputId": "4069aa16-a26a-42b9-c420-768686f38aa3"
      },
      "source": [
        "a.transpose(1, 0)"
      ],
      "execution_count": null,
      "outputs": [
        {
          "output_type": "execute_result",
          "data": {
            "text/plain": [
              "array([[0, 5],\n",
              "       [1, 6],\n",
              "       [2, 7],\n",
              "       [3, 8],\n",
              "       [4, 9]])"
            ]
          },
          "metadata": {},
          "execution_count": 51
        }
      ]
    },
    {
      "cell_type": "code",
      "metadata": {
        "id": "8LLh0Qd7U2xT",
        "colab": {
          "base_uri": "https://localhost:8080/"
        },
        "outputId": "52a61a61-dbd4-457c-b2bc-bff5e44f8a1b"
      },
      "source": [
        "a.transpose(0, 1)"
      ],
      "execution_count": null,
      "outputs": [
        {
          "output_type": "execute_result",
          "data": {
            "text/plain": [
              "array([[0, 1, 2, 3, 4],\n",
              "       [5, 6, 7, 8, 9]])"
            ]
          },
          "metadata": {},
          "execution_count": 52
        }
      ]
    },
    {
      "cell_type": "code",
      "metadata": {
        "colab": {
          "base_uri": "https://localhost:8080/"
        },
        "id": "Eu4YJcgAhAds",
        "outputId": "d99158c3-123a-4c3d-fd8b-f74a9bff3b07"
      },
      "source": [
        "torch.from_numpy(a).transpose(0, 1)"
      ],
      "execution_count": null,
      "outputs": [
        {
          "output_type": "execute_result",
          "data": {
            "text/plain": [
              "tensor([[0, 5],\n",
              "        [1, 6],\n",
              "        [2, 7],\n",
              "        [3, 8],\n",
              "        [4, 9]])"
            ]
          },
          "metadata": {},
          "execution_count": 53
        }
      ]
    },
    {
      "cell_type": "code",
      "metadata": {
        "id": "fsU83yRwU9VW",
        "colab": {
          "base_uri": "https://localhost:8080/"
        },
        "outputId": "133d3c65-9593-457c-f1a8-9ecc7877e290"
      },
      "source": [
        "# The einsum is cross platform. It works with consistent semantics\n",
        "# pretty much everywhere: PyTorch, NumPy, TensorFlow, Jax, ...\n",
        "# We will see the power of einsum in the next lab\n",
        "np.einsum('ij -> ji', a)"
      ],
      "execution_count": null,
      "outputs": [
        {
          "output_type": "execute_result",
          "data": {
            "text/plain": [
              "array([[0, 5],\n",
              "       [1, 6],\n",
              "       [2, 7],\n",
              "       [3, 8],\n",
              "       [4, 9]])"
            ]
          },
          "metadata": {},
          "execution_count": 54
        }
      ]
    },
    {
      "cell_type": "markdown",
      "metadata": {
        "id": "RWaicg6uVIXQ"
      },
      "source": [
        "#### **Reshape**\n",
        "\n",
        "Another important feature is **reshaping** a tensor into different dimensions\n",
        "\n",
        "- We need to make sure to **preserve the same number of elements**. \n",
        "- `-1` in one of the dimensions means **\"figure it out\"**.\n"
      ]
    },
    {
      "cell_type": "markdown",
      "metadata": {
        "id": "L5uTNjKI15kx"
      },
      "source": [
        "❌❌❌ Pay attention that **transposing and reshaping are two fundamentally different operations**:"
      ]
    },
    {
      "cell_type": "code",
      "metadata": {
        "id": "W01aXqIZwfCu",
        "colab": {
          "base_uri": "https://localhost:8080/"
        },
        "outputId": "88ab799b-bc7e-475c-c14c-9c8e835f1bbd"
      },
      "source": [
        "a = torch.arange(12).reshape(3,4 )\n",
        "a"
      ],
      "execution_count": null,
      "outputs": [
        {
          "output_type": "execute_result",
          "data": {
            "text/plain": [
              "tensor([[ 0,  1,  2,  3],\n",
              "        [ 4,  5,  6,  7],\n",
              "        [ 8,  9, 10, 11]])"
            ]
          },
          "metadata": {},
          "execution_count": 55
        }
      ]
    },
    {
      "cell_type": "code",
      "metadata": {
        "id": "c67xp19WwmGP",
        "colab": {
          "base_uri": "https://localhost:8080/"
        },
        "outputId": "b9af7745-b645-4366-96c8-01b4e4391268"
      },
      "source": [
        "# The classical transpose\n",
        "a.t()"
      ],
      "execution_count": null,
      "outputs": [
        {
          "output_type": "execute_result",
          "data": {
            "text/plain": [
              "tensor([[ 0,  4,  8],\n",
              "        [ 1,  5,  9],\n",
              "        [ 2,  6, 10],\n",
              "        [ 3,  7, 11]])"
            ]
          },
          "metadata": {},
          "execution_count": 56
        }
      ]
    },
    {
      "cell_type": "code",
      "metadata": {
        "id": "EenpJs6gwoLd",
        "colab": {
          "base_uri": "https://localhost:8080/"
        },
        "outputId": "69b4c73a-0ff6-4fca-bbe2-8ac5c4554531"
      },
      "source": [
        "# Reshape into the transpose shape\n",
        "a.reshape(4, 3)"
      ],
      "execution_count": null,
      "outputs": [
        {
          "output_type": "execute_result",
          "data": {
            "text/plain": [
              "tensor([[ 0,  1,  2],\n",
              "        [ 3,  4,  5],\n",
              "        [ 6,  7,  8],\n",
              "        [ 9, 10, 11]])"
            ]
          },
          "metadata": {},
          "execution_count": 57
        }
      ]
    },
    {
      "cell_type": "markdown",
      "metadata": {
        "id": "wJPn4ArY2Q6E"
      },
      "source": [
        "Think of the `reshape` operation as unrolling the tensor **row-wise**, to obtain a rank-1 tensor *(matlab users: matlab unrolls **column-wise**, pay attention when converting code!)*. Then organize the values in this tensor following the specified dimensions.\n",
        "\n",
        "```python\n",
        "tensor([[ 0,  1,  2,  3],\n",
        "        [ 4,  5,  6,  7],\n",
        "        [ 8,  9, 10, 11]])\n",
        "```\n",
        "$-$ unrolling $ \\to $\n",
        "\n",
        "```python\n",
        "tensor([ 0,  1,  2,  3,  4,  5,  6,  7,  8,  9, 10, 11])\n",
        "```\n",
        "\n",
        "Then, reading the target shape from right to left, organize the values into the dimensions:\n",
        "\n",
        "- e.g. reshape into `[4, 3]`:\n",
        "\n",
        "```python\n",
        "tensor([ 0,  1,  2,  3,  4,  5,  6,  7,  8,  9, 10, 11])\n",
        "```\n",
        "\n",
        "$-$ organize in groups of $3$ $ \\to $\n",
        "\n",
        "```python\n",
        "tensor([[0,  1,  2],  [3,  4,  5],  [6,  7,  8],  [9, 10, 11]])\n",
        "```\n",
        "\n",
        "$-$ organize in groups of $4$ $ \\to $\n",
        "\n",
        "```python\n",
        "tensor([[ 0,  1,  2],\n",
        "        [ 3,  4,  5],\n",
        "        [ 6,  7,  8],\n",
        "        [ 9, 10, 11]])\n",
        "\n",
        "# same shape of corresponding transpose but it **is** different\n",
        "```\n",
        "\n",
        "- e.g. reshape into `[2, 2, 3]`:\n",
        "\n",
        "```python\n",
        "tensor([ 0,  1,  2,  3,  4,  5,  6,  7,  8,  9, 10, 11])\n",
        "```\n",
        "\n",
        "$-$ organize in groups of $3$ $ \\to $\n",
        "\n",
        "```python\n",
        "tensor([[0,  1,  2],  [3,  4,  5],  [6,  7,  8],  [9, 10, 11]])\n",
        "```\n",
        "\n",
        "$-$ organize in groups of $2$ $ \\to $\n",
        "\n",
        "```python\n",
        "tensor([[[0,  1,  2],  [3,  4,  5]],  [[6,  7,  8],  [9, 10, 11]]])\n",
        "```\n",
        "\n",
        "$-$ organize in groups of $2$ $ \\to $\n",
        "\n",
        "```python\n",
        "tensor([[[ 0,  1,  2],\n",
        "         [ 3,  4,  5]],\n",
        "\n",
        "        [[ 6,  7,  8],\n",
        "         [ 9, 10, 11]]])\n",
        "```"
      ]
    },
    {
      "cell_type": "code",
      "metadata": {
        "id": "U3U_yh07Vf7m",
        "colab": {
          "base_uri": "https://localhost:8080/"
        },
        "outputId": "de9b35ed-6e28-4e3e-80f1-a0fa9d5c267c"
      },
      "source": [
        "a = torch.arange(12)\n",
        "print_arr(a)"
      ],
      "execution_count": null,
      "outputs": [
        {
          "output_type": "stream",
          "name": "stdout",
          "text": [
            "tensor([ 0,  1,  2,  3,  4,  5,  6,  7,  8,  9, 10, 11]) <shape: torch.Size([12])> <dtype: torch.int64>\n"
          ]
        }
      ]
    },
    {
      "cell_type": "code",
      "metadata": {
        "id": "_mqUJve9VjUQ",
        "colab": {
          "base_uri": "https://localhost:8080/"
        },
        "outputId": "b9402ab2-9110-41bd-d5b5-1f216692cfcf"
      },
      "source": [
        "a.reshape(6, 2)"
      ],
      "execution_count": null,
      "outputs": [
        {
          "output_type": "execute_result",
          "data": {
            "text/plain": [
              "tensor([[ 0,  1],\n",
              "        [ 2,  3],\n",
              "        [ 4,  5],\n",
              "        [ 6,  7],\n",
              "        [ 8,  9],\n",
              "        [10, 11]])"
            ]
          },
          "metadata": {},
          "execution_count": 59
        }
      ]
    },
    {
      "cell_type": "code",
      "metadata": {
        "id": "i-qtMeW0VnTu",
        "colab": {
          "base_uri": "https://localhost:8080/"
        },
        "outputId": "3236a475-d2cb-4acd-d2d2-3c1c9c2f9375"
      },
      "source": [
        "a.reshape(2, 6)"
      ],
      "execution_count": null,
      "outputs": [
        {
          "output_type": "execute_result",
          "data": {
            "text/plain": [
              "tensor([[ 0,  1,  2,  3,  4,  5],\n",
              "        [ 6,  7,  8,  9, 10, 11]])"
            ]
          },
          "metadata": {},
          "execution_count": 60
        }
      ]
    },
    {
      "cell_type": "code",
      "metadata": {
        "id": "S9miZ3XUqxvc",
        "colab": {
          "base_uri": "https://localhost:8080/"
        },
        "outputId": "ad23a79a-746b-48ab-93ca-1d17d665ea96"
      },
      "source": [
        "a.reshape(2, 2, 3)"
      ],
      "execution_count": null,
      "outputs": [
        {
          "output_type": "execute_result",
          "data": {
            "text/plain": [
              "tensor([[[ 0,  1,  2],\n",
              "         [ 3,  4,  5]],\n",
              "\n",
              "        [[ 6,  7,  8],\n",
              "         [ 9, 10, 11]]])"
            ]
          },
          "metadata": {},
          "execution_count": 61
        }
      ]
    },
    {
      "cell_type": "code",
      "metadata": {
        "id": "1rUiVJQgWibl",
        "colab": {
          "base_uri": "https://localhost:8080/"
        },
        "outputId": "01ed3ce1-a9be-4adc-8a98-27dcdd0e3aaa"
      },
      "source": [
        "try:\n",
        "  a.reshape(5, -1)\n",
        "except RuntimeError as e:\n",
        "  print('Error:', e)"
      ],
      "execution_count": null,
      "outputs": [
        {
          "output_type": "stream",
          "name": "stdout",
          "text": [
            "Error: shape '[5, -1]' is invalid for input of size 12\n"
          ]
        }
      ]
    },
    {
      "cell_type": "code",
      "metadata": {
        "id": "9STd1HDBWkym",
        "colab": {
          "base_uri": "https://localhost:8080/"
        },
        "outputId": "cb30b9e5-f33f-4ea3-b472-7bf888cfb9ac"
      },
      "source": [
        "a.reshape(1, -1)"
      ],
      "execution_count": null,
      "outputs": [
        {
          "output_type": "execute_result",
          "data": {
            "text/plain": [
              "tensor([[ 0,  1,  2,  3,  4,  5,  6,  7,  8,  9, 10, 11]])"
            ]
          },
          "metadata": {},
          "execution_count": 63
        }
      ]
    },
    {
      "cell_type": "code",
      "metadata": {
        "id": "-zjpBpctWr-D",
        "colab": {
          "base_uri": "https://localhost:8080/"
        },
        "outputId": "34ec6b33-bef7-4ec5-c580-0a5690217eeb"
      },
      "source": [
        "a.reshape(-1, 1)"
      ],
      "execution_count": null,
      "outputs": [
        {
          "output_type": "execute_result",
          "data": {
            "text/plain": [
              "tensor([[ 0],\n",
              "        [ 1],\n",
              "        [ 2],\n",
              "        [ 3],\n",
              "        [ 4],\n",
              "        [ 5],\n",
              "        [ 6],\n",
              "        [ 7],\n",
              "        [ 8],\n",
              "        [ 9],\n",
              "        [10],\n",
              "        [11]])"
            ]
          },
          "metadata": {},
          "execution_count": 64
        }
      ]
    },
    {
      "cell_type": "code",
      "metadata": {
        "id": "qWpSkDFAWo_Q",
        "colab": {
          "base_uri": "https://localhost:8080/"
        },
        "outputId": "bf80ad98-f7a0-4107-cd07-5a7e88fbb482"
      },
      "source": [
        "a.reshape(-1)  # we are flattening the rank-k tensor into a rank-1 tensor"
      ],
      "execution_count": null,
      "outputs": [
        {
          "output_type": "execute_result",
          "data": {
            "text/plain": [
              "tensor([ 0,  1,  2,  3,  4,  5,  6,  7,  8,  9, 10, 11])"
            ]
          },
          "metadata": {},
          "execution_count": 65
        }
      ]
    },
    {
      "cell_type": "markdown",
      "metadata": {
        "id": "RS6Bg3gg-X-F"
      },
      "source": [
        "> **NOTE**\n",
        ">\n",
        "> We can add or remove dimensions of size `1` using `torch.unsqueeze` or `torch.squeeze`"
      ]
    },
    {
      "cell_type": "code",
      "metadata": {
        "colab": {
          "base_uri": "https://localhost:8080/"
        },
        "id": "WuRS4c8HmUNB",
        "outputId": "da22fb55-7ae1-4fc8-9b56-493d7f0bc808"
      },
      "source": [
        "a"
      ],
      "execution_count": null,
      "outputs": [
        {
          "output_type": "execute_result",
          "data": {
            "text/plain": [
              "tensor([ 0,  1,  2,  3,  4,  5,  6,  7,  8,  9, 10, 11])"
            ]
          },
          "metadata": {},
          "execution_count": 66
        }
      ]
    },
    {
      "cell_type": "code",
      "metadata": {
        "colab": {
          "base_uri": "https://localhost:8080/"
        },
        "id": "F2Z05GiFmUpt",
        "outputId": "1a535cd8-3cf9-43e6-e2d3-8182fc444bd9"
      },
      "source": [
        "a.unsqueeze(0).shape"
      ],
      "execution_count": null,
      "outputs": [
        {
          "output_type": "execute_result",
          "data": {
            "text/plain": [
              "torch.Size([1, 12])"
            ]
          },
          "metadata": {},
          "execution_count": 67
        }
      ]
    },
    {
      "cell_type": "code",
      "metadata": {
        "colab": {
          "base_uri": "https://localhost:8080/"
        },
        "id": "UXZUg0P_mcha",
        "outputId": "036b1e85-3a22-4ecd-98d7-480cb0e0e012"
      },
      "source": [
        "a.unsqueeze(-1).shape"
      ],
      "execution_count": null,
      "outputs": [
        {
          "output_type": "execute_result",
          "data": {
            "text/plain": [
              "torch.Size([12, 1])"
            ]
          },
          "metadata": {},
          "execution_count": 68
        }
      ]
    },
    {
      "cell_type": "markdown",
      "metadata": {
        "id": "OYWdXFvqrbqS"
      },
      "source": [
        "> **NOTE**\n",
        ">\n",
        "> Often the reshape does not require a physical copy of the data, but just a logical\n",
        "> reorganization. \n",
        ">\n",
        "> If you are curious about the NumPy/PyTorch tensor internals, a good starting point to learn about *strides* is this [SO answer](https://stackoverflow.com/questions/53097952/how-to-understand-numpy-strides-for-layman).\n",
        "> tldr: often you can reshape tensors by changing only its strides and shape. The strides  are the byte-separation between consecutive items for each dimension.\n",
        ">\n",
        "> To be sure to obtain a *view* of the tensor, that shares the same underlying data, you can use the `torch.view` method.\n",
        "> Its semantics is similar to `reshape`, but it works only on [`contiguous` tensors](https://discuss.pytorch.org/t/contigious-vs-non-contigious-tensor/30107/2) and it guarantees that no copy will be performed."
      ]
    },
    {
      "cell_type": "markdown",
      "metadata": {
        "id": "zjvDvo4yXAk-"
      },
      "source": [
        "#### **Concatenation**\n",
        "\n",
        "PyTorch provides many functions to manipulate tensors. \n",
        "Two of the most common functions are:\n",
        "\n",
        "- `torch.stack`: Concatenates a sequence of tensors along a **new** dimension.\n",
        "- `torch.cat`: Concatenates a sequence of tensors **in** the given dimension."
      ]
    },
    {
      "cell_type": "code",
      "metadata": {
        "id": "Oq1IMbFvXLPk",
        "colab": {
          "base_uri": "https://localhost:8080/"
        },
        "outputId": "94321cfe-28ab-41ea-ca17-99307587df33"
      },
      "source": [
        "a = torch.arange(12).reshape(3, 4)\n",
        "b = torch.arange(12).reshape(3, 4) + 100\n",
        "print_arr(a, b)"
      ],
      "execution_count": null,
      "outputs": [
        {
          "output_type": "stream",
          "name": "stdout",
          "text": [
            "tensor([[ 0,  1,  2,  3],\n",
            "        [ 4,  5,  6,  7],\n",
            "        [ 8,  9, 10, 11]]) <shape: torch.Size([3, 4])> <dtype: torch.int64>\n",
            "\n",
            "tensor([[100, 101, 102, 103],\n",
            "        [104, 105, 106, 107],\n",
            "        [108, 109, 110, 111]]) <shape: torch.Size([3, 4])> <dtype: torch.int64>\n"
          ]
        }
      ]
    },
    {
      "cell_type": "code",
      "metadata": {
        "id": "EsyXtEm4XRf1",
        "colab": {
          "base_uri": "https://localhost:8080/"
        },
        "outputId": "184616b2-d27e-4d05-94ff-358508806767"
      },
      "source": [
        "out = torch.cat((a, b), dim=0)\n",
        "print_arr(out)"
      ],
      "execution_count": null,
      "outputs": [
        {
          "output_type": "stream",
          "name": "stdout",
          "text": [
            "tensor([[  0,   1,   2,   3],\n",
            "        [  4,   5,   6,   7],\n",
            "        [  8,   9,  10,  11],\n",
            "        [100, 101, 102, 103],\n",
            "        [104, 105, 106, 107],\n",
            "        [108, 109, 110, 111]]) <shape: torch.Size([6, 4])> <dtype: torch.int64>\n"
          ]
        }
      ]
    },
    {
      "cell_type": "code",
      "source": [
        "out = torch.cat((a, b), dim=1)\n",
        "print_arr(out)"
      ],
      "metadata": {
        "colab": {
          "base_uri": "https://localhost:8080/"
        },
        "id": "upRrgqeZILbb",
        "outputId": "d6647697-8b7a-4cd4-baf1-3c4a4d9d2d8e"
      },
      "execution_count": null,
      "outputs": [
        {
          "output_type": "stream",
          "name": "stdout",
          "text": [
            "tensor([[  0,   1,   2,   3, 100, 101, 102, 103],\n",
            "        [  4,   5,   6,   7, 104, 105, 106, 107],\n",
            "        [  8,   9,  10,  11, 108, 109, 110, 111]]) <shape: torch.Size([3, 8])> <dtype: torch.int64>\n"
          ]
        }
      ]
    },
    {
      "cell_type": "code",
      "metadata": {
        "id": "0k47GtMRX79a",
        "colab": {
          "base_uri": "https://localhost:8080/"
        },
        "outputId": "7ea245cc-b57b-4378-d82a-9b50974c1cdb"
      },
      "source": [
        "out = torch.stack((a, b), dim=0)\n",
        "print_arr(out)"
      ],
      "execution_count": null,
      "outputs": [
        {
          "output_type": "stream",
          "name": "stdout",
          "text": [
            "tensor([[[  0,   1,   2,   3],\n",
            "         [  4,   5,   6,   7],\n",
            "         [  8,   9,  10,  11]],\n",
            "\n",
            "        [[100, 101, 102, 103],\n",
            "         [104, 105, 106, 107],\n",
            "         [108, 109, 110, 111]]]) <shape: torch.Size([2, 3, 4])> <dtype: torch.int64>\n"
          ]
        }
      ]
    },
    {
      "cell_type": "markdown",
      "metadata": {
        "id": "VYocF4AUBJN4"
      },
      "source": [
        "> **EXERCISE**\n",
        ">\n",
        "> Given a rank-1 array of increasing numbers from `0` to `9`, defined as:\n",
        ">\n",
        "> ```python\n",
        "> a = torch.arange(10)\n",
        "> ```\n",
        ">\n",
        "> Use only the `reshape` and `transpose` functions to obtain the following tensor from `a`:\n",
        ">\n",
        "> ```python\n",
        "> tensor([0, 2, 4, 6, 8, 1, 3, 5, 7, 9])\n",
        "> ```"
      ]
    },
    {
      "cell_type": "code",
      "metadata": {
        "id": "leLESEEVD-Eq",
        "colab": {
          "base_uri": "https://localhost:8080/"
        },
        "outputId": "7d6b4564-1378-4adf-fa23-df87ffc01907"
      },
      "source": [
        "# Your solution\n",
        "\n",
        "a = torch.arange(10)\n",
        "print(a)"
      ],
      "execution_count": null,
      "outputs": [
        {
          "output_type": "stream",
          "name": "stdout",
          "text": [
            "tensor([0, 1, 2, 3, 4, 5, 6, 7, 8, 9])\n"
          ]
        }
      ]
    },
    {
      "cell_type": "markdown",
      "metadata": {
        "id": "qHQFWwzCn8k7"
      },
      "source": [
        "> **EXERCISE**\n",
        ">\n",
        "> Given a tensor $X \\in \\mathbb{R}^{3 \\times 1920 \\times 5 \\times 1080}$ reorganize it in order to obtain a tensor $Y \\in \\mathbb{R}^{5 \\times 1920 \\times 1080 \\times 3}$\n",
        ">\n",
        "> Think of $X$ as a tensor that represents $5$ RGB images, each one with width $1920$ and height $1080$. Your goal is to reorganize this tensor in a sensible (and usable) way.\n"
      ]
    },
    {
      "cell_type": "code",
      "metadata": {
        "id": "PrMb_KB_ogMs",
        "colab": {
          "base_uri": "https://localhost:8080/"
        },
        "outputId": "de1c364e-a287-45f4-a57c-a10b25ee8b4d"
      },
      "source": [
        "a = torch.rand(3, 1920, 5, 1080)\n",
        "a.shape"
      ],
      "execution_count": null,
      "outputs": [
        {
          "output_type": "execute_result",
          "data": {
            "text/plain": [
              "torch.Size([3, 1920, 5, 1080])"
            ]
          },
          "metadata": {},
          "execution_count": 74
        }
      ]
    },
    {
      "cell_type": "code",
      "source": [
        "# Your solution\n"
      ],
      "metadata": {
        "id": "b2twlGrOJ0VO"
      },
      "execution_count": null,
      "outputs": []
    },
    {
      "cell_type": "code",
      "source": [
        "# @title 👀 Solution\n",
        "\n",
        "a.transpose(0, 2).transpose(2,3).shape\n",
        "\n",
        "# Equivalent solution\n",
        "a.permute(2, 1, 3, 0).shape"
      ],
      "metadata": {
        "colab": {
          "base_uri": "https://localhost:8080/"
        },
        "cellView": "form",
        "id": "nLpeXAQ1I1zR",
        "outputId": "d401e415-547c-4b92-d372-78b587109268"
      },
      "execution_count": null,
      "outputs": [
        {
          "output_type": "execute_result",
          "data": {
            "text/plain": [
              "torch.Size([5, 1920, 1080, 3])"
            ]
          },
          "metadata": {},
          "execution_count": 76
        }
      ]
    },
    {
      "cell_type": "markdown",
      "metadata": {
        "id": "QPHnbIH_rn_C"
      },
      "source": [
        "### **Tensor indexing**\n",
        "\n",
        "PyTorch offers several ways to index tensors\n"
      ]
    },
    {
      "cell_type": "markdown",
      "metadata": {
        "id": "U68ToAl1r_dG"
      },
      "source": [
        "#### **Standard indexing**\n",
        "\n",
        "As a standard Python list, PyTorch tensors support the python indexing conventions:"
      ]
    },
    {
      "cell_type": "code",
      "metadata": {
        "id": "PWzGd3vYsb8e",
        "colab": {
          "base_uri": "https://localhost:8080/"
        },
        "outputId": "5003d838-3f92-44cc-83d0-dd7474a64b0f"
      },
      "source": [
        "a = torch.arange(10)\n",
        "a"
      ],
      "execution_count": null,
      "outputs": [
        {
          "output_type": "execute_result",
          "data": {
            "text/plain": [
              "tensor([0, 1, 2, 3, 4, 5, 6, 7, 8, 9])"
            ]
          },
          "metadata": {},
          "execution_count": 77
        }
      ]
    },
    {
      "cell_type": "code",
      "metadata": {
        "id": "vTn3_9F3tAVl",
        "colab": {
          "base_uri": "https://localhost:8080/"
        },
        "outputId": "a94c79e8-958d-48e8-a4e3-4d20f23c1d5c"
      },
      "source": [
        "print(a[0])  # first element\n",
        "print(a[1])  # second element"
      ],
      "execution_count": null,
      "outputs": [
        {
          "output_type": "stream",
          "name": "stdout",
          "text": [
            "tensor(0)\n",
            "tensor(1)\n"
          ]
        }
      ]
    },
    {
      "cell_type": "code",
      "metadata": {
        "id": "vDGstnvrs6wf",
        "colab": {
          "base_uri": "https://localhost:8080/"
        },
        "outputId": "878e7ca5-e664-42d6-d946-cf35552a0f4b"
      },
      "source": [
        "print(a[-1])  # last element\n",
        "print(a[-2])  # second last element"
      ],
      "execution_count": null,
      "outputs": [
        {
          "output_type": "stream",
          "name": "stdout",
          "text": [
            "tensor(9)\n",
            "tensor(8)\n"
          ]
        }
      ]
    },
    {
      "cell_type": "markdown",
      "metadata": {
        "id": "t_uRKJqor2Ty"
      },
      "source": [
        "#### **Multidimensional indexing**\n",
        "\n",
        "Since tensors may be multidimensional, you can specify **one index for each dimension**:"
      ]
    },
    {
      "cell_type": "code",
      "metadata": {
        "id": "4oSg1hGQtyT8",
        "colab": {
          "base_uri": "https://localhost:8080/"
        },
        "outputId": "b145bc8e-1e16-4cc9-fd51-7e86f8d5bf8f"
      },
      "source": [
        "a = torch.arange(10).reshape(2, 5)\n",
        "a"
      ],
      "execution_count": null,
      "outputs": [
        {
          "output_type": "execute_result",
          "data": {
            "text/plain": [
              "tensor([[0, 1, 2, 3, 4],\n",
              "        [5, 6, 7, 8, 9]])"
            ]
          },
          "metadata": {},
          "execution_count": 80
        }
      ]
    },
    {
      "cell_type": "code",
      "metadata": {
        "colab": {
          "base_uri": "https://localhost:8080/"
        },
        "id": "QfPPgXguqeT9",
        "outputId": "850f4ead-c5be-4d17-c69d-334684ddfd04"
      },
      "source": [
        "a[1, 3]"
      ],
      "execution_count": null,
      "outputs": [
        {
          "output_type": "execute_result",
          "data": {
            "text/plain": [
              "tensor(8)"
            ]
          },
          "metadata": {},
          "execution_count": 81
        }
      ]
    },
    {
      "cell_type": "code",
      "metadata": {
        "id": "p_d7tUsVuKNM",
        "colab": {
          "base_uri": "https://localhost:8080/"
        },
        "outputId": "394df02c-5e08-4d44-8ef1-f45ef83420be"
      },
      "source": [
        "a[0]"
      ],
      "execution_count": null,
      "outputs": [
        {
          "output_type": "execute_result",
          "data": {
            "text/plain": [
              "tensor([0, 1, 2, 3, 4])"
            ]
          },
          "metadata": {},
          "execution_count": 82
        }
      ]
    },
    {
      "cell_type": "code",
      "metadata": {
        "id": "6zErRdLjud3S",
        "colab": {
          "base_uri": "https://localhost:8080/"
        },
        "outputId": "558e6a80-cd4f-49e9-d222-59424014119f"
      },
      "source": [
        "a[1]"
      ],
      "execution_count": null,
      "outputs": [
        {
          "output_type": "execute_result",
          "data": {
            "text/plain": [
              "tensor([5, 6, 7, 8, 9])"
            ]
          },
          "metadata": {},
          "execution_count": 83
        }
      ]
    },
    {
      "cell_type": "code",
      "metadata": {
        "id": "j40QvNuLugWX",
        "colab": {
          "base_uri": "https://localhost:8080/"
        },
        "outputId": "0e3029e9-cc1d-4ba3-a2e3-14ae5a2894a5"
      },
      "source": [
        "a[0, -1]"
      ],
      "execution_count": null,
      "outputs": [
        {
          "output_type": "execute_result",
          "data": {
            "text/plain": [
              "tensor(4)"
            ]
          },
          "metadata": {},
          "execution_count": 84
        }
      ]
    },
    {
      "cell_type": "markdown",
      "source": [
        "> **EXERCISE**\n",
        ">\n",
        "> Which is the element in `a[1, -1]`?"
      ],
      "metadata": {
        "id": "ei6RS_wkKJp6"
      }
    },
    {
      "cell_type": "markdown",
      "metadata": {
        "id": "XY76VPqCuhc1"
      },
      "source": [
        "#### **Slicing**\n",
        "\n",
        "Similar to Python sequences and Numpy arrays, PyTorch tensors can be easily sliced using the slice notation:\n",
        "\n",
        "```python\n",
        "a[start:stop]  # items from start to stop-1 (i.e. the last element is excluded)\n",
        "a[start:]      # items from start through the rest of the array\n",
        "a[:stop]       # items from the beginning through stop-1\n",
        "a[:]           # a copy of the whole array\n",
        "```\n",
        "\n",
        "There is also an optional step value, which can be used with any of the above:\n",
        "\n",
        "```python\n",
        "a[start:stop:step] # from start to at most stop-1, by step\n",
        "```"
      ]
    },
    {
      "cell_type": "code",
      "metadata": {
        "id": "ku-xaZ7LvjR5",
        "colab": {
          "base_uri": "https://localhost:8080/"
        },
        "outputId": "5586c4a8-c4d5-4332-dd12-f131cf1910c3"
      },
      "source": [
        "a = torch.arange(10) + 10\n",
        "a"
      ],
      "execution_count": null,
      "outputs": [
        {
          "output_type": "execute_result",
          "data": {
            "text/plain": [
              "tensor([10, 11, 12, 13, 14, 15, 16, 17, 18, 19])"
            ]
          },
          "metadata": {},
          "execution_count": 85
        }
      ]
    },
    {
      "cell_type": "code",
      "source": [
        "# Take the elements in positions 5..6\n",
        "a[5:7]"
      ],
      "metadata": {
        "colab": {
          "base_uri": "https://localhost:8080/"
        },
        "id": "7TRwjulxKo_E",
        "outputId": "dfee99f3-3896-4bef-c3ce-17992f6b7a90"
      },
      "execution_count": null,
      "outputs": [
        {
          "output_type": "execute_result",
          "data": {
            "text/plain": [
              "tensor([15, 16])"
            ]
          },
          "metadata": {},
          "execution_count": 86
        }
      ]
    },
    {
      "cell_type": "code",
      "metadata": {
        "id": "aut0rgIEwIG_",
        "colab": {
          "base_uri": "https://localhost:8080/"
        },
        "outputId": "3f0e41b0-f16e-425f-b95e-91a46572b971"
      },
      "source": [
        "# Take the last 5 elements\n",
        "a[-5:]"
      ],
      "execution_count": null,
      "outputs": [
        {
          "output_type": "execute_result",
          "data": {
            "text/plain": [
              "tensor([15, 16, 17, 18, 19])"
            ]
          },
          "metadata": {},
          "execution_count": 87
        }
      ]
    },
    {
      "cell_type": "code",
      "metadata": {
        "id": "UZ3vLffywvQt",
        "colab": {
          "base_uri": "https://localhost:8080/"
        },
        "outputId": "287a9ae5-b975-4b39-a283-3808205dbaa2"
      },
      "source": [
        "# Select every element having an even index\n",
        "a[::2]"
      ],
      "execution_count": null,
      "outputs": [
        {
          "output_type": "execute_result",
          "data": {
            "text/plain": [
              "tensor([10, 12, 14, 16, 18])"
            ]
          },
          "metadata": {},
          "execution_count": 88
        }
      ]
    },
    {
      "cell_type": "markdown",
      "metadata": {
        "id": "lMgTjK6yyRCl"
      },
      "source": [
        "With multidimensional tensors we can perform **multidimensional slicing**:"
      ]
    },
    {
      "cell_type": "code",
      "metadata": {
        "id": "ZJYcchmxykd6",
        "colab": {
          "base_uri": "https://localhost:8080/"
        },
        "outputId": "184fb5d4-835a-4378-9abf-22e9317e268e"
      },
      "source": [
        "a = torch.arange(10).reshape(2, 5)\n",
        "a"
      ],
      "execution_count": null,
      "outputs": [
        {
          "output_type": "execute_result",
          "data": {
            "text/plain": [
              "tensor([[0, 1, 2, 3, 4],\n",
              "        [5, 6, 7, 8, 9]])"
            ]
          },
          "metadata": {},
          "execution_count": 89
        }
      ]
    },
    {
      "cell_type": "code",
      "metadata": {
        "id": "gkhWYbVHyq-H",
        "colab": {
          "base_uri": "https://localhost:8080/"
        },
        "outputId": "c99cdcd7-5a64-42a9-c7a8-b5979c51afdb"
      },
      "source": [
        "# Take the second column\n",
        "a[:, 1]"
      ],
      "execution_count": null,
      "outputs": [
        {
          "output_type": "execute_result",
          "data": {
            "text/plain": [
              "tensor([1, 6])"
            ]
          },
          "metadata": {},
          "execution_count": 90
        }
      ]
    },
    {
      "cell_type": "code",
      "metadata": {
        "id": "5PzkxXpdyMoL",
        "colab": {
          "base_uri": "https://localhost:8080/"
        },
        "outputId": "192b5bf3-8d7c-4fed-b00e-94add9016b05"
      },
      "source": [
        "# Take the last column\n",
        "a[:, -1]"
      ],
      "execution_count": null,
      "outputs": [
        {
          "output_type": "execute_result",
          "data": {
            "text/plain": [
              "tensor([4, 9])"
            ]
          },
          "metadata": {},
          "execution_count": 91
        }
      ]
    },
    {
      "cell_type": "code",
      "metadata": {
        "id": "7q0GVL_YxVRK",
        "colab": {
          "base_uri": "https://localhost:8080/"
        },
        "outputId": "3b1fd82b-e66f-4d75-ddf6-ce2c40db0d28"
      },
      "source": [
        "# Take a slice from the last row\n",
        "a[-1, -3:]"
      ],
      "execution_count": null,
      "outputs": [
        {
          "output_type": "execute_result",
          "data": {
            "text/plain": [
              "tensor([7, 8, 9])"
            ]
          },
          "metadata": {},
          "execution_count": 92
        }
      ]
    },
    {
      "cell_type": "markdown",
      "metadata": {
        "id": "Z6oeDEvEzvhQ"
      },
      "source": [
        "You can **assign** to sliced tensors, therefore *modifying the original tensor*.\n",
        "\n",
        "Indexing and slicing operations do their best to return tensors that **share the underlying data** with the original tensor."
      ]
    },
    {
      "cell_type": "code",
      "metadata": {
        "id": "R2XdMXUUzLFV",
        "colab": {
          "base_uri": "https://localhost:8080/"
        },
        "outputId": "c8654392-52ce-4898-a70b-de326f9b1ce9"
      },
      "source": [
        "a = torch.arange(10).reshape(2, 5)\n",
        "a"
      ],
      "execution_count": null,
      "outputs": [
        {
          "output_type": "execute_result",
          "data": {
            "text/plain": [
              "tensor([[0, 1, 2, 3, 4],\n",
              "        [5, 6, 7, 8, 9]])"
            ]
          },
          "metadata": {},
          "execution_count": 93
        }
      ]
    },
    {
      "cell_type": "code",
      "metadata": {
        "id": "aiM4-1Je1C3y",
        "colab": {
          "base_uri": "https://localhost:8080/"
        },
        "outputId": "a48e1ceb-6e8c-4e5e-f343-9ce16d61bce9"
      },
      "source": [
        "b = a[0:2, 1:3]\n",
        "b"
      ],
      "execution_count": null,
      "outputs": [
        {
          "output_type": "execute_result",
          "data": {
            "text/plain": [
              "tensor([[1, 2],\n",
              "        [6, 7]])"
            ]
          },
          "metadata": {},
          "execution_count": 94
        }
      ]
    },
    {
      "cell_type": "code",
      "metadata": {
        "id": "Evbxee1A1GFo",
        "colab": {
          "base_uri": "https://localhost:8080/"
        },
        "outputId": "4840066f-628b-45df-8711-5fd65ba2cf47"
      },
      "source": [
        "b[-1, :] = -999\n",
        "b"
      ],
      "execution_count": null,
      "outputs": [
        {
          "output_type": "execute_result",
          "data": {
            "text/plain": [
              "tensor([[   1,    2],\n",
              "        [-999, -999]])"
            ]
          },
          "metadata": {},
          "execution_count": 95
        }
      ]
    },
    {
      "cell_type": "code",
      "metadata": {
        "id": "44A4NAYewvYd",
        "colab": {
          "base_uri": "https://localhost:8080/"
        },
        "outputId": "6a9b2de2-64b2-44ee-eab2-87e14c9cada6"
      },
      "source": [
        "# The original tensor has been modified\n",
        "a"
      ],
      "execution_count": null,
      "outputs": [
        {
          "output_type": "execute_result",
          "data": {
            "text/plain": [
              "tensor([[   0,    1,    2,    3,    4],\n",
              "        [   5, -999, -999,    8,    9]])"
            ]
          },
          "metadata": {},
          "execution_count": 96
        }
      ]
    },
    {
      "cell_type": "code",
      "metadata": {
        "id": "chqxaQU63oxh",
        "colab": {
          "base_uri": "https://localhost:8080/"
        },
        "outputId": "f87bc0e1-d485-459f-fd52-d6b4c18f887b"
      },
      "source": [
        "a[-1, -1] = -1\n",
        "a"
      ],
      "execution_count": null,
      "outputs": [
        {
          "output_type": "execute_result",
          "data": {
            "text/plain": [
              "tensor([[   0,    1,    2,    3,    4],\n",
              "        [   5, -999, -999,    8,   -1]])"
            ]
          },
          "metadata": {},
          "execution_count": 97
        }
      ]
    },
    {
      "cell_type": "markdown",
      "metadata": {
        "id": "Y_yFS2q51zdn"
      },
      "source": [
        "> **NOTE**\n",
        ">\n",
        "> Indexing with **integers yields lower rank tensors**"
      ]
    },
    {
      "cell_type": "code",
      "metadata": {
        "id": "CqLGPTtlu22k",
        "colab": {
          "base_uri": "https://localhost:8080/"
        },
        "outputId": "63f0007d-7998-4029-b326-1b779a5d4c24"
      },
      "source": [
        "a = torch.arange(12).reshape(3, 4)\n",
        "print_arr(a)"
      ],
      "execution_count": null,
      "outputs": [
        {
          "output_type": "stream",
          "name": "stdout",
          "text": [
            "tensor([[ 0,  1,  2,  3],\n",
            "        [ 4,  5,  6,  7],\n",
            "        [ 8,  9, 10, 11]]) <shape: torch.Size([3, 4])> <dtype: torch.int64>\n"
          ]
        }
      ]
    },
    {
      "cell_type": "code",
      "metadata": {
        "id": "u2vHVDozvCag",
        "colab": {
          "base_uri": "https://localhost:8080/"
        },
        "outputId": "73f10aad-8a6a-4df8-98e6-67657a44b973"
      },
      "source": [
        "# Rank 1 view of the second row of a \n",
        "row_r1 = a[1, :]    \n",
        "print_arr(row_r1)"
      ],
      "execution_count": null,
      "outputs": [
        {
          "output_type": "stream",
          "name": "stdout",
          "text": [
            "tensor([4, 5, 6, 7]) <shape: torch.Size([4])> <dtype: torch.int64>\n"
          ]
        }
      ]
    },
    {
      "cell_type": "code",
      "metadata": {
        "id": "CTsk6eG325Ib",
        "colab": {
          "base_uri": "https://localhost:8080/"
        },
        "outputId": "6716099f-63c0-4870-91bc-bf0a3a6c430d"
      },
      "source": [
        "# Rank 2 view of the second row of a\n",
        "row_r2 = a[1:2, :]\n",
        "print_arr(row_r2)"
      ],
      "execution_count": null,
      "outputs": [
        {
          "output_type": "stream",
          "name": "stdout",
          "text": [
            "tensor([[4, 5, 6, 7]]) <shape: torch.Size([1, 4])> <dtype: torch.int64>\n"
          ]
        }
      ]
    },
    {
      "cell_type": "code",
      "metadata": {
        "id": "zUVPrn7l3A5j",
        "colab": {
          "base_uri": "https://localhost:8080/"
        },
        "outputId": "557aaa1e-5e83-4c4e-e0c7-86f6e3739114"
      },
      "source": [
        "# Rank 2 view of the second row of a\n",
        "row_r3 = a[[1], :]\n",
        "print_arr(row_r3)"
      ],
      "execution_count": null,
      "outputs": [
        {
          "output_type": "stream",
          "name": "stdout",
          "text": [
            "tensor([[4, 5, 6, 7]]) <shape: torch.Size([1, 4])> <dtype: torch.int64>\n"
          ]
        }
      ]
    },
    {
      "cell_type": "code",
      "metadata": {
        "id": "TL0qs9Gw3Mfu",
        "colab": {
          "base_uri": "https://localhost:8080/"
        },
        "outputId": "10a355ff-30e8-46c7-a447-4d52471fd9ed"
      },
      "source": [
        "# Same with the columns\n",
        "print_arr(a[:, 1])\n",
        "print_arr(a[:, [1]])"
      ],
      "execution_count": null,
      "outputs": [
        {
          "output_type": "stream",
          "name": "stdout",
          "text": [
            "tensor([1, 5, 9]) <shape: torch.Size([3])> <dtype: torch.int64>\n",
            "tensor([[1],\n",
            "        [5],\n",
            "        [9]]) <shape: torch.Size([3, 1])> <dtype: torch.int64>\n"
          ]
        }
      ]
    },
    {
      "cell_type": "markdown",
      "metadata": {
        "id": "TjIcC1HqwvU1"
      },
      "source": [
        "##### ⊕ Optional section: Slice Object\n",
        "\n",
        "The **slice syntax** is just a shortand.\n",
        "\n",
        "In Python everything is an object, even a ``slice``.\n",
        "It is possible to explicitly create a ``Slice`` object and reuse it to **index multiple tensors in the same way**:\n",
        "\n",
        "\n",
        "\n"
      ]
    },
    {
      "cell_type": "code",
      "metadata": {
        "id": "3D8qk7q0xUAb",
        "colab": {
          "base_uri": "https://localhost:8080/"
        },
        "outputId": "79b7f136-313c-4604-ca9b-cf050a28d3ec"
      },
      "source": [
        "# The signature follows the same pattern as above\n",
        "s1 = slice(3)  # equivalent to the slice [:3]\n",
        "s1"
      ],
      "execution_count": null,
      "outputs": [
        {
          "output_type": "execute_result",
          "data": {
            "text/plain": [
              "slice(None, 3, None)"
            ]
          },
          "metadata": {},
          "execution_count": 103
        }
      ]
    },
    {
      "cell_type": "code",
      "metadata": {
        "id": "fMqp5ZCEp8uu",
        "colab": {
          "base_uri": "https://localhost:8080/"
        },
        "outputId": "6dd3fcf1-ebc8-4f36-f3d5-2ec8f6e3f1f6"
      },
      "source": [
        "type(s1)  # It is a built-in type"
      ],
      "execution_count": null,
      "outputs": [
        {
          "output_type": "execute_result",
          "data": {
            "text/plain": [
              "slice"
            ]
          },
          "metadata": {},
          "execution_count": 104
        }
      ]
    },
    {
      "cell_type": "code",
      "metadata": {
        "id": "JIxqkduyp470",
        "colab": {
          "base_uri": "https://localhost:8080/"
        },
        "outputId": "0ce36700-1162-41a8-cf92-f8dc3f23156e"
      },
      "source": [
        "out = a[s1]  # equivalent to a[:3]\n",
        "\n",
        "print_arr(a, out)"
      ],
      "execution_count": null,
      "outputs": [
        {
          "output_type": "stream",
          "name": "stdout",
          "text": [
            "tensor([[ 0,  1,  2,  3],\n",
            "        [ 4,  5,  6,  7],\n",
            "        [ 8,  9, 10, 11]]) <shape: torch.Size([3, 4])> <dtype: torch.int64>\n",
            "\n",
            "tensor([[ 0,  1,  2,  3],\n",
            "        [ 4,  5,  6,  7],\n",
            "        [ 8,  9, 10, 11]]) <shape: torch.Size([3, 4])> <dtype: torch.int64>\n"
          ]
        }
      ]
    },
    {
      "cell_type": "code",
      "metadata": {
        "id": "JWr9dLVqxziR",
        "colab": {
          "base_uri": "https://localhost:8080/",
          "height": 35
        },
        "outputId": "4b6f8687-66af-407b-dbf1-d01dbef70c76"
      },
      "source": [
        "mystring = 'this is just a string'\n",
        "mystring[s1]"
      ],
      "execution_count": null,
      "outputs": [
        {
          "output_type": "execute_result",
          "data": {
            "application/vnd.google.colaboratory.intrinsic+json": {
              "type": "string"
            },
            "text/plain": [
              "'thi'"
            ]
          },
          "metadata": {},
          "execution_count": 106
        }
      ]
    },
    {
      "cell_type": "code",
      "metadata": {
        "id": "RNehWUQn2t4H",
        "colab": {
          "base_uri": "https://localhost:8080/",
          "height": 35
        },
        "outputId": "01b1f892-7a64-42d0-a155-4fae25a7776a"
      },
      "source": [
        "s2 = slice(None, None, -1)\n",
        "mystring[s2] "
      ],
      "execution_count": null,
      "outputs": [
        {
          "output_type": "execute_result",
          "data": {
            "application/vnd.google.colaboratory.intrinsic+json": {
              "type": "string"
            },
            "text/plain": [
              "'gnirts a tsuj si siht'"
            ]
          },
          "metadata": {},
          "execution_count": 107
        }
      ]
    },
    {
      "cell_type": "code",
      "metadata": {
        "id": "XvkH5XOCyJQx",
        "colab": {
          "base_uri": "https://localhost:8080/"
        },
        "outputId": "e0e06e18-2500-444c-bf09-2791ae6ca2d1"
      },
      "source": [
        "try:\n",
        "  a[s2]  # PyTorch currently does not support negative steps\n",
        "except ValueError as e:\n",
        "  print('Error:', e)"
      ],
      "execution_count": null,
      "outputs": [
        {
          "output_type": "stream",
          "name": "stdout",
          "text": [
            "Error: step must be greater than zero\n"
          ]
        }
      ]
    },
    {
      "cell_type": "markdown",
      "metadata": {
        "id": "UUsBgzbl33Qc"
      },
      "source": [
        "#### **Integer array indexing**\n",
        "\n",
        "It is a generalization of the slice: when you slice, the resulting tensor view will always be a subarray of the original tensor.\n",
        "\n",
        "Integer array indexing allows you to construct arbitrary tensors, using the data from another tensor"
      ]
    },
    {
      "cell_type": "code",
      "metadata": {
        "id": "8yJ7eft44Shf",
        "colab": {
          "base_uri": "https://localhost:8080/"
        },
        "outputId": "af347b64-93cd-4f18-e629-5a1268f541b7"
      },
      "source": [
        "a = torch.arange(1, 7).reshape(3, 2)\n",
        "print_arr(a)"
      ],
      "execution_count": null,
      "outputs": [
        {
          "output_type": "stream",
          "name": "stdout",
          "text": [
            "tensor([[1, 2],\n",
            "        [3, 4],\n",
            "        [5, 6]]) <shape: torch.Size([3, 2])> <dtype: torch.int64>\n"
          ]
        }
      ]
    },
    {
      "cell_type": "code",
      "metadata": {
        "id": "YDGTkvIQ4qaO",
        "colab": {
          "base_uri": "https://localhost:8080/"
        },
        "outputId": "b92b3406-2587-43b8-ef14-e50cf65fcecd"
      },
      "source": [
        "# Example of integer array indexing\n",
        "# The returned array will have shape (3,)\n",
        "b = a[[0, 1, 2], [0, 1, 0]]\n",
        "print_arr(b)"
      ],
      "execution_count": null,
      "outputs": [
        {
          "output_type": "stream",
          "name": "stdout",
          "text": [
            "tensor([1, 4, 5]) <shape: torch.Size([3])> <dtype: torch.int64>\n"
          ]
        }
      ]
    },
    {
      "cell_type": "code",
      "metadata": {
        "id": "e8AjjBKF4nos",
        "colab": {
          "base_uri": "https://localhost:8080/"
        },
        "outputId": "1054c531-7c12-4179-d119-8585ea8baa61"
      },
      "source": [
        "# Equivalent to\n",
        "v1, v2, v3 = a[0, 0], a[1, 1], a[2, 0]\n",
        "b = torch.tensor([v1, v2, v3])\n",
        "print_arr(b)"
      ],
      "execution_count": null,
      "outputs": [
        {
          "output_type": "stream",
          "name": "stdout",
          "text": [
            "tensor([1, 4, 5]) <shape: torch.Size([3])> <dtype: torch.int64>\n"
          ]
        }
      ]
    },
    {
      "cell_type": "code",
      "metadata": {
        "id": "WnVB223B5Nf9",
        "colab": {
          "base_uri": "https://localhost:8080/"
        },
        "outputId": "6341060a-fe04-44b1-a2c9-b99eb2235ff8"
      },
      "source": [
        "# You can re-use the same element of the source tensor multiple times!\n",
        "print_arr(a[[0, 0], [1, 1]])\n",
        "print_arr(torch.tensor([a[0, 1], a[0, 1]]))"
      ],
      "execution_count": null,
      "outputs": [
        {
          "output_type": "stream",
          "name": "stdout",
          "text": [
            "tensor([2, 2]) <shape: torch.Size([2])> <dtype: torch.int64>\n",
            "tensor([2, 2]) <shape: torch.Size([2])> <dtype: torch.int64>\n"
          ]
        }
      ]
    },
    {
      "cell_type": "code",
      "metadata": {
        "id": "NG8PUPue5ntQ",
        "colab": {
          "base_uri": "https://localhost:8080/"
        },
        "outputId": "aaa68f37-8d74-4abb-f5e1-f93dab08653a"
      },
      "source": [
        "# You can use another tensor to perform the indexing, \n",
        "# as long as they have dtype=torch.int64 (synonym for torch.long)\n",
        "i = torch.ones(3, dtype=torch.int64)\n",
        "i"
      ],
      "execution_count": null,
      "outputs": [
        {
          "output_type": "execute_result",
          "data": {
            "text/plain": [
              "tensor([1, 1, 1])"
            ]
          },
          "metadata": {},
          "execution_count": 113
        }
      ]
    },
    {
      "cell_type": "code",
      "metadata": {
        "id": "yp--PCJN5uvA",
        "colab": {
          "base_uri": "https://localhost:8080/"
        },
        "outputId": "20c295eb-3b9c-4167-e457-aac78a1b33a9"
      },
      "source": [
        "j = torch.tensor([0, 1, 0])\n",
        "j"
      ],
      "execution_count": null,
      "outputs": [
        {
          "output_type": "execute_result",
          "data": {
            "text/plain": [
              "tensor([0, 1, 0])"
            ]
          },
          "metadata": {},
          "execution_count": 114
        }
      ]
    },
    {
      "cell_type": "code",
      "metadata": {
        "id": "RrlnZbw25w3H",
        "colab": {
          "base_uri": "https://localhost:8080/"
        },
        "outputId": "a3ce9417-3a03-4b94-fa3a-375d168dff48"
      },
      "source": [
        "out = a[i, j]\n",
        "\n",
        "print_arr(a, out)"
      ],
      "execution_count": null,
      "outputs": [
        {
          "output_type": "stream",
          "name": "stdout",
          "text": [
            "tensor([[1, 2],\n",
            "        [3, 4],\n",
            "        [5, 6]]) <shape: torch.Size([3, 2])> <dtype: torch.int64>\n",
            "\n",
            "tensor([3, 4, 3]) <shape: torch.Size([3])> <dtype: torch.int64>\n"
          ]
        }
      ]
    },
    {
      "cell_type": "markdown",
      "metadata": {
        "id": "gzr5hn34sjko"
      },
      "source": [
        "> **EXERCISE**\n",
        ">\n",
        "> Change with a single assignment the elements in the tensor $X \\in \\mathbb{R}^{4 \\times 3}$ as follows:\n",
        ">\n",
        "> `X[0,2] = -1`\n",
        ">\n",
        "> `X[1,1] = 0`\n",
        ">\n",
        "> `X[2,0] = 1`\n",
        ">\n",
        "> `X[3,1] = 2`\n",
        "\n"
      ]
    },
    {
      "cell_type": "code",
      "metadata": {
        "colab": {
          "base_uri": "https://localhost:8080/"
        },
        "id": "F_3bZ5xHwmGb",
        "outputId": "a2762701-4c5c-4242-a661-08997e81de95"
      },
      "source": [
        "# Mutate one element from each row of a matrix\n",
        "a = torch.arange(12).reshape(4, 3)\n",
        "a"
      ],
      "execution_count": null,
      "outputs": [
        {
          "output_type": "execute_result",
          "data": {
            "text/plain": [
              "tensor([[ 0,  1,  2],\n",
              "        [ 3,  4,  5],\n",
              "        [ 6,  7,  8],\n",
              "        [ 9, 10, 11]])"
            ]
          },
          "metadata": {},
          "execution_count": 116
        }
      ]
    },
    {
      "cell_type": "markdown",
      "metadata": {
        "id": "544F9pAf-qRY"
      },
      "source": [
        "> ❌❌❌ **NOTE**\n",
        ">\n",
        "> **Slice indexing vs Array indexing**\n",
        ">\n",
        "> Be careful that slice indexing and array indexing are different operations!"
      ]
    },
    {
      "cell_type": "code",
      "metadata": {
        "id": "b-GYMhxA-tOY",
        "colab": {
          "base_uri": "https://localhost:8080/"
        },
        "outputId": "ec3de636-7c44-46b2-8601-f92590198dc6"
      },
      "source": [
        "a = torch.arange(16).reshape(4, 4)\n",
        "a"
      ],
      "execution_count": null,
      "outputs": [
        {
          "output_type": "execute_result",
          "data": {
            "text/plain": [
              "tensor([[ 0,  1,  2,  3],\n",
              "        [ 4,  5,  6,  7],\n",
              "        [ 8,  9, 10, 11],\n",
              "        [12, 13, 14, 15]])"
            ]
          },
          "metadata": {},
          "execution_count": 117
        }
      ]
    },
    {
      "cell_type": "code",
      "metadata": {
        "id": "Piy-JUdv-x0_",
        "colab": {
          "base_uri": "https://localhost:8080/"
        },
        "outputId": "e636bc74-8569-4764-bb41-f8b6ac8b5f4d"
      },
      "source": [
        "a[0:3, 0:3]"
      ],
      "execution_count": null,
      "outputs": [
        {
          "output_type": "execute_result",
          "data": {
            "text/plain": [
              "tensor([[ 0,  1,  2],\n",
              "        [ 4,  5,  6],\n",
              "        [ 8,  9, 10]])"
            ]
          },
          "metadata": {},
          "execution_count": 118
        }
      ]
    },
    {
      "cell_type": "code",
      "metadata": {
        "id": "fXJJAq9G-0rX",
        "colab": {
          "base_uri": "https://localhost:8080/"
        },
        "outputId": "6ed42cc0-5b77-4b6c-b230-e34409de7e1c"
      },
      "source": [
        "a[[0, 1, 2], [0, 1, 2]]"
      ],
      "execution_count": null,
      "outputs": [
        {
          "output_type": "execute_result",
          "data": {
            "text/plain": [
              "tensor([ 0,  5, 10])"
            ]
          },
          "metadata": {},
          "execution_count": 119
        }
      ]
    },
    {
      "cell_type": "code",
      "metadata": {
        "colab": {
          "base_uri": "https://localhost:8080/"
        },
        "id": "OKjSW5ePxzLW",
        "outputId": "7769364b-62b9-427d-d419-8ab4c23d2cce"
      },
      "source": [
        "a[torch.arange(0,3), torch.arange(0,3)]"
      ],
      "execution_count": null,
      "outputs": [
        {
          "output_type": "execute_result",
          "data": {
            "text/plain": [
              "tensor([ 0,  5, 10])"
            ]
          },
          "metadata": {},
          "execution_count": 120
        }
      ]
    },
    {
      "cell_type": "code",
      "metadata": {
        "id": "hkmiQgQT_k82",
        "colab": {
          "base_uri": "https://localhost:8080/"
        },
        "outputId": "4a8a20d5-38f3-4d3f-e004-b2e555a9bd9b"
      },
      "source": [
        "a[0:5:2, 0:5:2]"
      ],
      "execution_count": null,
      "outputs": [
        {
          "output_type": "execute_result",
          "data": {
            "text/plain": [
              "tensor([[ 0,  2],\n",
              "        [ 8, 10]])"
            ]
          },
          "metadata": {},
          "execution_count": 121
        }
      ]
    },
    {
      "cell_type": "code",
      "metadata": {
        "id": "MUf_I1xjx8f9"
      },
      "source": [
        "# With *slice indexing* you return a sub-tensor."
      ],
      "execution_count": null,
      "outputs": []
    },
    {
      "cell_type": "markdown",
      "metadata": {
        "id": "QVMo8E2W_wAw"
      },
      "source": [
        "#### **Boolean array indexing**\n",
        "\n",
        "This type of indexing is used to select the elements of a tensor that satisfy some condition (similar to MATLAB's logical indexing):"
      ]
    },
    {
      "cell_type": "code",
      "metadata": {
        "id": "OFIFupWJAnI9",
        "colab": {
          "base_uri": "https://localhost:8080/"
        },
        "outputId": "878b7bb7-1e98-49c7-d343-bdc1a59358bb"
      },
      "source": [
        "a = torch.arange(6).reshape(3, 2)\n",
        "a"
      ],
      "execution_count": null,
      "outputs": [
        {
          "output_type": "execute_result",
          "data": {
            "text/plain": [
              "tensor([[0, 1],\n",
              "        [2, 3],\n",
              "        [4, 5]])"
            ]
          },
          "metadata": {},
          "execution_count": 123
        }
      ]
    },
    {
      "cell_type": "code",
      "metadata": {
        "id": "jMaNbpVPAtMm",
        "colab": {
          "base_uri": "https://localhost:8080/"
        },
        "outputId": "764a75ec-48b5-453a-d6cc-1c1b0bcd4226"
      },
      "source": [
        "bool_idx = (a > 2)\n",
        "bool_idx"
      ],
      "execution_count": null,
      "outputs": [
        {
          "output_type": "execute_result",
          "data": {
            "text/plain": [
              "tensor([[False, False],\n",
              "        [False,  True],\n",
              "        [ True,  True]])"
            ]
          },
          "metadata": {},
          "execution_count": 124
        }
      ]
    },
    {
      "cell_type": "code",
      "metadata": {
        "id": "XbYWFo8TArod",
        "colab": {
          "base_uri": "https://localhost:8080/"
        },
        "outputId": "2cd07237-9e73-442b-94ef-a6e254d32c7e"
      },
      "source": [
        "a[bool_idx]  # remember that NumPy and PyTorch unroll row-wise and not column-wise like Matlab"
      ],
      "execution_count": null,
      "outputs": [
        {
          "output_type": "execute_result",
          "data": {
            "text/plain": [
              "tensor([3, 4, 5])"
            ]
          },
          "metadata": {},
          "execution_count": 125
        }
      ]
    },
    {
      "cell_type": "markdown",
      "metadata": {
        "id": "kzVyXjJgBMKa"
      },
      "source": [
        "If you want to know more about indexing in PyTorch and Numpy read the [documentation](https://numpy.org/doc/stable/user/basics.indexing.html#basics-indexing)"
      ]
    },
    {
      "cell_type": "markdown",
      "source": [
        "##### ⊕ Optional section: Graph use case\n",
        "\n",
        "Assume to have a weighted adjacency matrix for a non-directed graph possibly with self-loops. We want to obtain the list of edges of this graph for which the weights is greater than 0.5. \n",
        "\n",
        "How can we do that?\n",
        "\n",
        "\n",
        "\n"
      ],
      "metadata": {
        "id": "cZUsTLVGPXmc"
      }
    },
    {
      "cell_type": "code",
      "source": [
        "# Let's define a random adjacency\n",
        "a = torch.randint(2, (5, 5)).bool()\n",
        "adj_matrix = ((a + a.T) > 0.5) * torch.rand_like(a, dtype=torch.float)\n",
        "adj_matrix"
      ],
      "metadata": {
        "colab": {
          "base_uri": "https://localhost:8080/"
        },
        "id": "zReQ6XJdQHfY",
        "outputId": "911f6e06-e608-4c11-a843-b97ccd11b343"
      },
      "execution_count": null,
      "outputs": [
        {
          "output_type": "execute_result",
          "data": {
            "text/plain": [
              "tensor([[0.0370, 0.0355, 0.0649, 0.4080, 0.2056],\n",
              "        [0.2274, 0.9855, 0.2389, 0.6916, 0.0000],\n",
              "        [0.4174, 0.8172, 0.0370, 0.1462, 0.3398],\n",
              "        [0.3207, 0.7445, 0.7958, 0.0000, 0.3038],\n",
              "        [0.6516, 0.0000, 0.8374, 0.7351, 0.1234]])"
            ]
          },
          "metadata": {},
          "execution_count": 126
        }
      ]
    },
    {
      "cell_type": "code",
      "source": [
        "# The list of edges\n",
        "(adj_matrix > 0.5).nonzero()"
      ],
      "metadata": {
        "colab": {
          "base_uri": "https://localhost:8080/"
        },
        "id": "dmHUoUUBP7AU",
        "outputId": "987b464c-c495-47d6-ad73-27a898d5e0c9"
      },
      "execution_count": null,
      "outputs": [
        {
          "output_type": "execute_result",
          "data": {
            "text/plain": [
              "tensor([[1, 1],\n",
              "        [1, 3],\n",
              "        [2, 1],\n",
              "        [3, 1],\n",
              "        [3, 2],\n",
              "        [4, 0],\n",
              "        [4, 2],\n",
              "        [4, 3]])"
            ]
          },
          "metadata": {},
          "execution_count": 127
        }
      ]
    },
    {
      "cell_type": "code",
      "source": [
        "# The asssociated weights for each edge\n",
        "adj_matrix[adj_matrix > 0.5]"
      ],
      "metadata": {
        "colab": {
          "base_uri": "https://localhost:8080/"
        },
        "id": "6zyU9SBOR-JQ",
        "outputId": "41b8c37e-9fa4-4fed-bcb3-7986d14ec2cb"
      },
      "execution_count": null,
      "outputs": [
        {
          "output_type": "execute_result",
          "data": {
            "text/plain": [
              "tensor([0.9855, 0.6916, 0.8172, 0.7445, 0.7958, 0.6516, 0.8374, 0.7351])"
            ]
          },
          "metadata": {},
          "execution_count": 128
        }
      ]
    },
    {
      "cell_type": "markdown",
      "source": [
        "### Exercises"
      ],
      "metadata": {
        "id": "mSAHCIYePoB5"
      }
    },
    {
      "cell_type": "markdown",
      "metadata": {
        "id": "fbUID2DlLuhq"
      },
      "source": [
        "> **EXERCISE**\n",
        ">\n",
        "> Build a 3D tensor in $X \\in \\mathbb{R}^{3 \\times 3 \\times 3}$ that has ones along the 3D-diagonal and zeros elsewhere, i.e. a 3D identity."
      ]
    },
    {
      "cell_type": "code",
      "source": [
        "# Write here your solution"
      ],
      "metadata": {
        "id": "5-FQolfTS2BH"
      },
      "execution_count": null,
      "outputs": []
    },
    {
      "cell_type": "markdown",
      "metadata": {
        "id": "5uLHb9jWM0jM"
      },
      "source": [
        "> **EXERCISE**\n",
        ">\n",
        "> Given a 3D tensor $X \\in \\mathbb{R}^{w \\times h \\times 3}$ representing a $w \\times h$ image with `(r, g, b)` color channels. Assume the color channel is the last dimension in the tensor and each color component $c \\in [0, 1]$.\n",
        ">\n",
        "> Color the image $X$ completely by red, i.e. `(1, 0, 0)` in the `(r, g, b)` format."
      ]
    },
    {
      "cell_type": "code",
      "metadata": {
        "id": "g_HG8I5zNnpJ",
        "colab": {
          "base_uri": "https://localhost:8080/",
          "height": 218
        },
        "outputId": "9aa2dcb7-5dc2-454d-c783-681ddeda5d30"
      },
      "source": [
        "# Create and visualize a black image\n",
        "x = torch.zeros(100, 200, 3)\n",
        "\n",
        "%matplotlib inline\n",
        "import matplotlib.pyplot as plt\n",
        "img = plt.imshow(x)"
      ],
      "execution_count": null,
      "outputs": [
        {
          "output_type": "display_data",
          "data": {
            "image/png": "[encoded data removed]",
            "text/plain": [
              "<Figure size 432x288 with 1 Axes>"
            ]
          },
          "metadata": {
            "needs_background": "light"
          }
        }
      ]
    },
    {
      "cell_type": "code",
      "metadata": {
        "id": "gqqm2zZUybB7"
      },
      "source": [
        "# Write here your solution\n",
        "\n",
        "# y = ?\n",
        "# img = plt.imshow(y)"
      ],
      "execution_count": null,
      "outputs": []
    },
    {
      "cell_type": "markdown",
      "metadata": {
        "id": "ps_j8BUcQmWu"
      },
      "source": [
        "> **EXERCISE**\n",
        ">\n",
        "> Given the GitHub logo $X \\in \\mathbb{R}^{560 \\times 560}$.  Assume the logo is in gray scale, with the color $c \\in [0, 1]$ (remember 0 $\\to$ black).\n",
        ">\n",
        "> 1. Change the black-ish color into light gray: $0.8$.\n",
        "> 2. Then draw a diagonal and anti-diagonal black line (i.e. an X) on the new image, to mark that the new logo is wrong."
      ]
    },
    {
      "cell_type": "code",
      "metadata": {
        "id": "X0082ZNOP-EK",
        "colab": {
          "base_uri": "https://localhost:8080/",
          "height": 269
        },
        "outputId": "475cbb63-9304-47fb-b33a-534403087689"
      },
      "source": [
        "from skimage import io\n",
        "\n",
        "image = io.imread('https://github.githubassets.com/images/modules/logos_page/GitHub-Mark.png', as_gray=True)\n",
        "_ = plt.imshow(image, cmap='gray', vmin=0, vmax=1)"
      ],
      "execution_count": null,
      "outputs": [
        {
          "output_type": "display_data",
          "data": {
            "image/png": "[encoded data removed]",
            "text/plain": [
              "<Figure size 432x288 with 1 Axes>"
            ]
          },
          "metadata": {
            "needs_background": "light"
          }
        }
      ]
    },
    {
      "cell_type": "code",
      "metadata": {
        "id": "thBZCe_3QyxM",
        "colab": {
          "base_uri": "https://localhost:8080/",
          "height": 269
        },
        "outputId": "21e83bfc-09f7-4140-d13a-9fa7aa00b2bd"
      },
      "source": [
        "# Change the black into light-gray\n",
        "X = torch.from_numpy(image.copy())  # PyTorch CPU and Numpy share the memory!\n",
        "\n",
        "_ = plt.imshow(X, cmap='gray', vmin=0, vmax=1)"
      ],
      "execution_count": null,
      "outputs": [
        {
          "output_type": "display_data",
          "data": {
            "image/png": "[encoded data removed]",
            "text/plain": [
              "<Figure size 432x288 with 1 Axes>"
            ]
          },
          "metadata": {
            "needs_background": "light"
          }
        }
      ]
    },
    {
      "cell_type": "code",
      "metadata": {
        "id": "DvjjGYmkX8m7",
        "colab": {
          "base_uri": "https://localhost:8080/",
          "height": 269
        },
        "outputId": "85c1af5f-3aec-4693-a9ba-55cc1156c2d1"
      },
      "source": [
        "# # Mark the new image as wrong with a big black X\n",
        "# # ?\n",
        "\n",
        "_ = plt.imshow(X, cmap='gray', vmin=0, vmax=1)"
      ],
      "execution_count": null,
      "outputs": [
        {
          "output_type": "display_data",
          "data": {
            "image/png": "[encoded data removed]",
            "text/plain": [
              "<Figure size 432x288 with 1 Axes>"
            ]
          },
          "metadata": {
            "needs_background": "light"
          }
        }
      ]
    }
  ]
}